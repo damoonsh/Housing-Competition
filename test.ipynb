{
 "cells": [
  {
   "cell_type": "code",
   "execution_count": 4,
   "metadata": {},
   "outputs": [],
   "source": [
    "import pandas as pd\n",
    "import numpy as np\n",
    "from utils import retrieve_data"
   ]
  },
  {
   "cell_type": "code",
   "execution_count": 2,
   "metadata": {},
   "outputs": [],
   "source": [
    "# Retrieve Data\n",
    "data = retrieve_data()\n",
    "train = data['train']\n",
    "test = data['test']\n",
    "train_num = data['train_num']\n",
    "y_feature = 'SalePrice'"
   ]
  },
  {
   "cell_type": "markdown",
   "metadata": {},
   "source": [
    "# Implementing mini-batch gradient descent:\n",
    "        1. Having a number for batch-size\n",
    "        2. Going through the whole dataset in each batch\n",
    "        3. passing the parameters along from each batch to the other one set_params(**args) /get_params\n",
    "        \n",
    "--------------------------------------------------------------\n",
    "Making a mock dataset with non-missing values then run it on that and test"
   ]
  },
  {
   "cell_type": "code",
   "execution_count": 22,
   "metadata": {},
   "outputs": [],
   "source": [
    "# Making a mock slice of the data\n",
    "num_feats = list(data['train_num'].columns)[1:-1]\n",
    "data['train_num_missing']\n",
    "num_feats.remove(data['train_num_missing'][0])\n",
    "num_feats.remove(data['train_num_missing'][1])\n",
    "num_feats.remove(data['train_num_missing'][2])\n",
    "mock_feats = train.corr()['SalePrice'][num_feats].nlargest(7).keys().to_list()\n",
    "mock_feats.append('SalePrice')\n",
    "mock_data = train[mock_feats]\n",
    "mock_feats.remove('SalePrice')"
   ]
  },
  {
   "cell_type": "code",
   "execution_count": 23,
   "metadata": {},
   "outputs": [
    {
     "data": {
      "text/plain": [
       "['OverallQual',\n",
       " 'GrLivArea',\n",
       " 'GarageCars',\n",
       " 'GarageArea',\n",
       " 'TotalBsmtSF',\n",
       " '1stFlrSF',\n",
       " 'FullBath']"
      ]
     },
     "execution_count": 23,
     "metadata": {},
     "output_type": "execute_result"
    }
   ],
   "source": [
    "mock_feats"
   ]
  },
  {
   "cell_type": "code",
   "execution_count": 16,
   "metadata": {},
   "outputs": [
    {
     "data": {
      "text/plain": [
       "(1460, 8)"
      ]
     },
     "execution_count": 16,
     "metadata": {},
     "output_type": "execute_result"
    }
   ],
   "source": [
    "mock_data.shape"
   ]
  },
  {
   "cell_type": "code",
   "execution_count": 17,
   "metadata": {},
   "outputs": [],
   "source": [
    "def split_data(data, batch_size):\n",
    "    \"\"\"\n",
    "        Breaks the data into batches so it could be used in the mini-batch\n",
    "        gradient descent.\n",
    "        \n",
    "        # Arguments:\n",
    "            data: dataframe containing all the data\n",
    "            batch_size: the sizes batches\n",
    "        \n",
    "        # Returns:\n",
    "            a list containing a slices of dataset\n",
    "    \"\"\"\n",
    "    num = data.shape[0] # Number of data points\n",
    "    batch_num = num // batch_size + 1 # Number of batches\n",
    "    batches = [] # List containig the slices of data\n",
    "    \n",
    "    for i in range(batch_num):\n",
    "        print(i)\n",
    "        print(data[i * batch_size:(i + 1) * batch_size].shape)\n",
    "        # Implement: given that some values will go over the size of\n",
    "        # the data write a function to randomly select the remianing\n",
    "        # of the batch\n",
    "        batches.append(data[i * batch_size:(i + 1) * batch_size])\n",
    "        \n",
    "    return batches"
   ]
  },
  {
   "cell_type": "code",
   "execution_count": 18,
   "metadata": {},
   "outputs": [
    {
     "name": "stdout",
     "output_type": "stream",
     "text": [
      "0\n",
      "(500, 8)\n",
      "1\n",
      "(500, 8)\n",
      "2\n",
      "(460, 8)\n"
     ]
    }
   ],
   "source": [
    "s = split_data(mock_data, batch_size=500)"
   ]
  },
  {
   "cell_type": "code",
   "execution_count": 24,
   "metadata": {},
   "outputs": [
    {
     "data": {
      "text/html": [
       "<div>\n",
       "<style scoped>\n",
       "    .dataframe tbody tr th:only-of-type {\n",
       "        vertical-align: middle;\n",
       "    }\n",
       "\n",
       "    .dataframe tbody tr th {\n",
       "        vertical-align: top;\n",
       "    }\n",
       "\n",
       "    .dataframe thead th {\n",
       "        text-align: right;\n",
       "    }\n",
       "</style>\n",
       "<table border=\"1\" class=\"dataframe\">\n",
       "  <thead>\n",
       "    <tr style=\"text-align: right;\">\n",
       "      <th></th>\n",
       "      <th>OverallQual</th>\n",
       "      <th>GrLivArea</th>\n",
       "      <th>GarageCars</th>\n",
       "      <th>GarageArea</th>\n",
       "      <th>TotalBsmtSF</th>\n",
       "      <th>1stFlrSF</th>\n",
       "      <th>FullBath</th>\n",
       "    </tr>\n",
       "  </thead>\n",
       "  <tbody>\n",
       "    <tr>\n",
       "      <th>0</th>\n",
       "      <td>7</td>\n",
       "      <td>1710</td>\n",
       "      <td>2</td>\n",
       "      <td>548</td>\n",
       "      <td>856</td>\n",
       "      <td>856</td>\n",
       "      <td>2</td>\n",
       "    </tr>\n",
       "    <tr>\n",
       "      <th>1</th>\n",
       "      <td>6</td>\n",
       "      <td>1262</td>\n",
       "      <td>2</td>\n",
       "      <td>460</td>\n",
       "      <td>1262</td>\n",
       "      <td>1262</td>\n",
       "      <td>2</td>\n",
       "    </tr>\n",
       "    <tr>\n",
       "      <th>2</th>\n",
       "      <td>7</td>\n",
       "      <td>1786</td>\n",
       "      <td>2</td>\n",
       "      <td>608</td>\n",
       "      <td>920</td>\n",
       "      <td>920</td>\n",
       "      <td>2</td>\n",
       "    </tr>\n",
       "    <tr>\n",
       "      <th>3</th>\n",
       "      <td>7</td>\n",
       "      <td>1717</td>\n",
       "      <td>3</td>\n",
       "      <td>642</td>\n",
       "      <td>756</td>\n",
       "      <td>961</td>\n",
       "      <td>1</td>\n",
       "    </tr>\n",
       "    <tr>\n",
       "      <th>4</th>\n",
       "      <td>8</td>\n",
       "      <td>2198</td>\n",
       "      <td>3</td>\n",
       "      <td>836</td>\n",
       "      <td>1145</td>\n",
       "      <td>1145</td>\n",
       "      <td>2</td>\n",
       "    </tr>\n",
       "    <tr>\n",
       "      <th>...</th>\n",
       "      <td>...</td>\n",
       "      <td>...</td>\n",
       "      <td>...</td>\n",
       "      <td>...</td>\n",
       "      <td>...</td>\n",
       "      <td>...</td>\n",
       "      <td>...</td>\n",
       "    </tr>\n",
       "    <tr>\n",
       "      <th>495</th>\n",
       "      <td>4</td>\n",
       "      <td>720</td>\n",
       "      <td>0</td>\n",
       "      <td>0</td>\n",
       "      <td>720</td>\n",
       "      <td>720</td>\n",
       "      <td>1</td>\n",
       "    </tr>\n",
       "    <tr>\n",
       "      <th>496</th>\n",
       "      <td>8</td>\n",
       "      <td>3228</td>\n",
       "      <td>2</td>\n",
       "      <td>546</td>\n",
       "      <td>3200</td>\n",
       "      <td>3228</td>\n",
       "      <td>3</td>\n",
       "    </tr>\n",
       "    <tr>\n",
       "      <th>497</th>\n",
       "      <td>7</td>\n",
       "      <td>1820</td>\n",
       "      <td>1</td>\n",
       "      <td>240</td>\n",
       "      <td>1026</td>\n",
       "      <td>1133</td>\n",
       "      <td>2</td>\n",
       "    </tr>\n",
       "    <tr>\n",
       "      <th>498</th>\n",
       "      <td>5</td>\n",
       "      <td>899</td>\n",
       "      <td>1</td>\n",
       "      <td>288</td>\n",
       "      <td>864</td>\n",
       "      <td>899</td>\n",
       "      <td>1</td>\n",
       "    </tr>\n",
       "    <tr>\n",
       "      <th>499</th>\n",
       "      <td>5</td>\n",
       "      <td>912</td>\n",
       "      <td>1</td>\n",
       "      <td>297</td>\n",
       "      <td>912</td>\n",
       "      <td>912</td>\n",
       "      <td>1</td>\n",
       "    </tr>\n",
       "  </tbody>\n",
       "</table>\n",
       "<p>500 rows × 7 columns</p>\n",
       "</div>"
      ],
      "text/plain": [
       "     OverallQual  GrLivArea  GarageCars  GarageArea  TotalBsmtSF  1stFlrSF  \\\n",
       "0              7       1710           2         548          856       856   \n",
       "1              6       1262           2         460         1262      1262   \n",
       "2              7       1786           2         608          920       920   \n",
       "3              7       1717           3         642          756       961   \n",
       "4              8       2198           3         836         1145      1145   \n",
       "..           ...        ...         ...         ...          ...       ...   \n",
       "495            4        720           0           0          720       720   \n",
       "496            8       3228           2         546         3200      3228   \n",
       "497            7       1820           1         240         1026      1133   \n",
       "498            5        899           1         288          864       899   \n",
       "499            5        912           1         297          912       912   \n",
       "\n",
       "     FullBath  \n",
       "0           2  \n",
       "1           2  \n",
       "2           2  \n",
       "3           1  \n",
       "4           2  \n",
       "..        ...  \n",
       "495         1  \n",
       "496         3  \n",
       "497         2  \n",
       "498         1  \n",
       "499         1  \n",
       "\n",
       "[500 rows x 7 columns]"
      ]
     },
     "execution_count": 24,
     "metadata": {},
     "output_type": "execute_result"
    }
   ],
   "source": [
    "s[0][mock_feats]"
   ]
  },
  {
   "cell_type": "code",
   "execution_count": 64,
   "metadata": {},
   "outputs": [
    {
     "name": "stdout",
     "output_type": "stream",
     "text": [
      "-5.459258327919444e+22\n",
      "1.5354429531650208e+16\n"
     ]
    }
   ],
   "source": [
    "# GradientBoostingRegressor"
   ]
  }
 ],
 "metadata": {
  "kernelspec": {
   "display_name": "Python 3",
   "language": "python",
   "name": "python3"
  },
  "language_info": {
   "codemirror_mode": {
    "name": "ipython",
    "version": 3
   },
   "file_extension": ".py",
   "mimetype": "text/x-python",
   "name": "python",
   "nbconvert_exporter": "python",
   "pygments_lexer": "ipython3",
   "version": "3.8.2"
  }
 },
 "nbformat": 4,
 "nbformat_minor": 4
}
