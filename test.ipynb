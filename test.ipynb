{
 "cells": [
  {
   "cell_type": "code",
   "execution_count": 1,
   "metadata": {},
   "outputs": [],
   "source": [
    "import pandas as pd\n",
    "import numpy as np\n",
    "from utils import *"
   ]
  },
  {
   "cell_type": "code",
   "execution_count": 2,
   "metadata": {},
   "outputs": [],
   "source": [
    "# Retrieve Data\n",
    "data = retrieve_data()\n",
    "train = data['train']\n",
    "test = data['test']\n",
    "train_num = data['train_num']\n",
    "y_feature = 'SalePrice'"
   ]
  },
  {
   "cell_type": "code",
   "execution_count": 3,
   "metadata": {},
   "outputs": [],
   "source": [
    "feats = data['train_cat'].columns.to_list()\n",
    "encoded_data = encode_categorical(train.copy(), feats)"
   ]
  },
  {
   "cell_type": "code",
   "execution_count": null,
   "metadata": {},
   "outputs": [],
   "source": [
    "from sklearn.linear_model import SGDRegressor\n",
    "\n",
    "sgd = SGDRegressor(eta0=0.35, max_iter=1600, n_iter_no_change=45, random_state=31)\n",
    "X_train, X_test, y_train, y_test = train_test_split(poly_train[l], train[y_feature], test_size=0.33, random_state=42)\n",
    "\n",
    "# sgd.fit(poly_train[l], train['SalePrice'])\n",
    "sgd.fit(X_train, y_train)\n",
    "print(r2_score(y_true=y_test, y_pred=sgd.predict(X_test)))\n",
    "y_pred = sgd.predict(X_test)\n",
    "# print(sgd.score(y_test, y_pred))\n",
    "sgd.fit(poly_train[l], train[y_feature])"
   ]
  }
 ],
 "metadata": {
  "kernelspec": {
   "display_name": "Python 3",
   "language": "python",
   "name": "python3"
  },
  "language_info": {
   "codemirror_mode": {
    "name": "ipython",
    "version": 3
   },
   "file_extension": ".py",
   "mimetype": "text/x-python",
   "name": "python",
   "nbconvert_exporter": "python",
   "pygments_lexer": "ipython3",
   "version": "3.8.2"
  }
 },
 "nbformat": 4,
 "nbformat_minor": 4
}
