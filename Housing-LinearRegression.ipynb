{
 "cells": [
  {
   "cell_type": "code",
   "execution_count": 4,
   "metadata": {
    "_cell_guid": "79c7e3d0-c299-4dcb-8224-4455121ee9b0",
    "_uuid": "d629ff2d2480ee46fbb7e2d37f6b5fab8052498a"
   },
   "outputs": [],
   "source": [
    "import numpy as np\n",
    "import pandas as pd\n",
    "\n",
    "# Importing data\n",
    "test = pd.read_csv('dataset/test.csv')\n",
    "train = pd.read_csv('dataset/train.csv')\n",
    "\n",
    "y_feature = 'SalePrice'"
   ]
  },
  {
   "cell_type": "markdown",
   "metadata": {},
   "source": [
    "## Cleaning data:\n",
    "- Categorical Data: assuming that it is a normal distirbutation, break it in to z's = (X-mean)/std\n",
    "- Fill the missing data with KNN algorithem"
   ]
  },
  {
   "cell_type": "code",
   "execution_count": 24,
   "metadata": {},
   "outputs": [
    {
     "data": {
      "text/plain": [
       "['MasVnrType',\n",
       " 'BsmtQual',\n",
       " 'BsmtCond',\n",
       " 'BsmtExposure',\n",
       " 'BsmtFinType1',\n",
       " 'BsmtFinType2',\n",
       " 'Electrical',\n",
       " 'FireplaceQu',\n",
       " 'GarageType',\n",
       " 'GarageFinish',\n",
       " 'GarageQual',\n",
       " 'GarageCond']"
      ]
     },
     "execution_count": 24,
     "metadata": {},
     "output_type": "execute_result"
    }
   ],
   "source": [
    "# Droping All the columns with more than half of rows nans \n",
    "# simply because they might not be as important as the other columns\n",
    "train.dropna(thresh=train.shape[0] / 2, axis=1, inplace=True)\n",
    "\n",
    "# Getting the features with missing values\n",
    "# Divifing the dataset into categorical and numerical\n",
    "categorical_data = train.select_dtypes('object')\n",
    "numerical_data = train.select_dtypes(['float64', 'int64'])\n",
    "\n",
    "# Get the columns with missing data\n",
    "missing_categorical_data = categorical_data.columns[categorical_data.isna().any()].tolist()\n",
    "missing_numerical_data = numerical_data.columns[numerical_data.isna().any()].tolist()\n",
    "missing_categorical_data"
   ]
  },
  {
   "cell_type": "code",
   "execution_count": 40,
   "metadata": {},
   "outputs": [
    {
     "name": "stdout",
     "output_type": "stream",
     "text": [
      "{'TA': {'mean': 183632.6209000763, 'std': 79515.38844895519, 'mode': 140000.0}, 'Gd': {'mean': 213599.9076923077, 'std': 72663.15502580276, 'mode': 169250.0}, nan: {'mean': nan, 'std': nan, 'mode': nan}, 'Fa': {'mean': 121809.53333333334, 'std': 43467.796975357625, 'mode': 60000.0}, 'Po': {'mean': 64000.0, 'std': 4242.640687119285, 'mode': 64000.0}}\n"
     ]
    },
    {
     "ename": "AttributeError",
     "evalue": "'str' object has no attribute 'isnull'",
     "output_type": "error",
     "traceback": [
      "\u001b[0;31m---------------------------------------------------------------------------\u001b[0m",
      "\u001b[0;31mAttributeError\u001b[0m                            Traceback (most recent call last)",
      "\u001b[0;32m<ipython-input-40-6fd0439c0ab6>\u001b[0m in \u001b[0;36m<module>\u001b[0;34m\u001b[0m\n\u001b[1;32m     39\u001b[0m \u001b[0mfeature\u001b[0m \u001b[0;34m=\u001b[0m \u001b[0;34m'BsmtCond'\u001b[0m\u001b[0;34m\u001b[0m\u001b[0;34m\u001b[0m\u001b[0m\n\u001b[1;32m     40\u001b[0m \u001b[0;34m\u001b[0m\u001b[0m\n\u001b[0;32m---> 41\u001b[0;31m \u001b[0mconvert\u001b[0m\u001b[0;34m(\u001b[0m\u001b[0mfeature\u001b[0m\u001b[0;34m)\u001b[0m\u001b[0;34m\u001b[0m\u001b[0;34m\u001b[0m\u001b[0m\n\u001b[0m\u001b[1;32m     42\u001b[0m \u001b[0mtrain\u001b[0m\u001b[0;34m[\u001b[0m\u001b[0mfeature\u001b[0m \u001b[0;34m+\u001b[0m \u001b[0;34m\"converted\"\u001b[0m\u001b[0;34m]\u001b[0m\u001b[0;34m.\u001b[0m\u001b[0misna\u001b[0m\u001b[0;34m(\u001b[0m\u001b[0;34m)\u001b[0m\u001b[0;34m.\u001b[0m\u001b[0msum\u001b[0m\u001b[0;34m(\u001b[0m\u001b[0;34m)\u001b[0m\u001b[0;34m\u001b[0m\u001b[0;34m\u001b[0m\u001b[0m\n",
      "\u001b[0;32m<ipython-input-40-6fd0439c0ab6>\u001b[0m in \u001b[0;36mconvert\u001b[0;34m(feature)\u001b[0m\n\u001b[1;32m     26\u001b[0m     \u001b[0;32mfor\u001b[0m \u001b[0mi\u001b[0m \u001b[0;32min\u001b[0m \u001b[0mrange\u001b[0m\u001b[0;34m(\u001b[0m\u001b[0;36m0\u001b[0m\u001b[0;34m,\u001b[0m \u001b[0mtrain\u001b[0m\u001b[0;34m.\u001b[0m\u001b[0mshape\u001b[0m\u001b[0;34m[\u001b[0m\u001b[0;36m0\u001b[0m\u001b[0;34m]\u001b[0m\u001b[0;34m)\u001b[0m\u001b[0;34m:\u001b[0m\u001b[0;34m\u001b[0m\u001b[0;34m\u001b[0m\u001b[0m\n\u001b[1;32m     27\u001b[0m         \u001b[0mmode\u001b[0m \u001b[0;34m=\u001b[0m \u001b[0mdic\u001b[0m\u001b[0;34m[\u001b[0m\u001b[0mtrain\u001b[0m\u001b[0;34m.\u001b[0m\u001b[0miloc\u001b[0m\u001b[0;34m[\u001b[0m\u001b[0mi\u001b[0m\u001b[0;34m]\u001b[0m\u001b[0;34m[\u001b[0m\u001b[0mfeature\u001b[0m\u001b[0;34m]\u001b[0m\u001b[0;34m]\u001b[0m\u001b[0;34m[\u001b[0m\u001b[0;34m'mode'\u001b[0m\u001b[0;34m]\u001b[0m\u001b[0;34m\u001b[0m\u001b[0;34m\u001b[0m\u001b[0m\n\u001b[0;32m---> 28\u001b[0;31m         \u001b[0mprint\u001b[0m\u001b[0;34m(\u001b[0m\u001b[0mtrain\u001b[0m\u001b[0;34m.\u001b[0m\u001b[0miloc\u001b[0m\u001b[0;34m[\u001b[0m\u001b[0mi\u001b[0m\u001b[0;34m]\u001b[0m\u001b[0;34m[\u001b[0m\u001b[0mfeature\u001b[0m\u001b[0;34m]\u001b[0m\u001b[0;34m.\u001b[0m\u001b[0misnull\u001b[0m\u001b[0;34m(\u001b[0m\u001b[0;34m)\u001b[0m\u001b[0;34m)\u001b[0m\u001b[0;34m\u001b[0m\u001b[0;34m\u001b[0m\u001b[0m\n\u001b[0m\u001b[1;32m     29\u001b[0m         \u001b[0;32mif\u001b[0m \u001b[0mtrain\u001b[0m\u001b[0;34m.\u001b[0m\u001b[0miloc\u001b[0m\u001b[0;34m[\u001b[0m\u001b[0mi\u001b[0m\u001b[0;34m]\u001b[0m\u001b[0;34m[\u001b[0m\u001b[0mfeature\u001b[0m\u001b[0;34m]\u001b[0m \u001b[0;34m==\u001b[0m \u001b[0mnp\u001b[0m\u001b[0;34m.\u001b[0m\u001b[0mnan\u001b[0m\u001b[0;34m:\u001b[0m\u001b[0;34m\u001b[0m\u001b[0;34m\u001b[0m\u001b[0m\n\u001b[1;32m     30\u001b[0m             \u001b[0ml\u001b[0m\u001b[0;34m.\u001b[0m\u001b[0mappend\u001b[0m\u001b[0;34m(\u001b[0m\u001b[0mmode\u001b[0m\u001b[0;34m)\u001b[0m\u001b[0;34m\u001b[0m\u001b[0;34m\u001b[0m\u001b[0m\n",
      "\u001b[0;31mAttributeError\u001b[0m: 'str' object has no attribute 'isnull'"
     ]
    }
   ],
   "source": [
    "\"\"\" Converts the categorical data based on the SalePrice column \"\"\"\n",
    "def getFeatureInfo(feature):\n",
    "    #  Instantiate two lists to store the information\n",
    "    n_list = list(train[feature].unique())\n",
    "    n_dict = {}\n",
    "\n",
    "    for para in n_list:\n",
    "        # Initiate an empty list\n",
    "        d = {}\n",
    "        \n",
    "        # Set the mean and std\n",
    "        d['mean'] = train[train[feature] == para][y_feature].mean()\n",
    "        d['std'] = train[train[feature] == para][y_feature].std()\n",
    "        d['mode'] = train[train[feature] == para][y_feature].mode().mean()\n",
    "        # Add the info\n",
    "        n_dict[para] = d\n",
    "    \n",
    "    return n_dict\n",
    "\n",
    "def convert(feature):\n",
    "    dic = getFeatureInfo(feature)\n",
    "    print(dic)\n",
    "    newFeature = feature + \"converted\"\n",
    "    l = []\n",
    "    \n",
    "    for i in range(0, train.shape[0]):\n",
    "        mode = dic[train.iloc[i][feature]]['mode']\n",
    "        print(train.iloc[i][feature].isnull())\n",
    "        if train.iloc[i][feature] == np.nan:\n",
    "            l.append(mode)\n",
    "        else:\n",
    "            mean = dic[train.iloc[i][feature]]['mean']\n",
    "            std = dic[train.iloc[i][feature]]['std']\n",
    "            y = train.iloc[i][y_feature]\n",
    "            l.append((y - mean) / std)\n",
    "    \n",
    "    train[newFeature] = l\n",
    "    \n",
    "feature = 'BsmtCond'\n",
    "\n",
    "convert(feature)\n",
    "train[feature + \"converted\"].isna().sum()"
   ]
  },
  {
   "cell_type": "code",
   "execution_count": 48,
   "metadata": {},
   "outputs": [
    {
     "ename": "ValueError",
     "evalue": "list.remove(x): x not in list",
     "output_type": "error",
     "traceback": [
      "\u001b[0;31m---------------------------------------------------------------------------\u001b[0m",
      "\u001b[0;31mValueError\u001b[0m                                Traceback (most recent call last)",
      "\u001b[0;32m<ipython-input-48-e8e7fbc9ec56>\u001b[0m in \u001b[0;36m<module>\u001b[0;34m\u001b[0m\n\u001b[0;32m----> 1\u001b[0;31m \u001b[0mprint\u001b[0m\u001b[0;34m(\u001b[0m\u001b[0mlist\u001b[0m\u001b[0;34m(\u001b[0m\u001b[0mtrain\u001b[0m\u001b[0;34m[\u001b[0m\u001b[0;34m'BsmtQual'\u001b[0m\u001b[0;34m]\u001b[0m\u001b[0;34m.\u001b[0m\u001b[0munique\u001b[0m\u001b[0;34m(\u001b[0m\u001b[0;34m)\u001b[0m\u001b[0;34m)\u001b[0m\u001b[0;34m.\u001b[0m\u001b[0mremove\u001b[0m\u001b[0;34m(\u001b[0m\u001b[0;36m3\u001b[0m\u001b[0;34m)\u001b[0m\u001b[0;34m)\u001b[0m\u001b[0;34m\u001b[0m\u001b[0;34m\u001b[0m\u001b[0m\n\u001b[0m",
      "\u001b[0;31mValueError\u001b[0m: list.remove(x): x not in list"
     ]
    }
   ],
   "source": [
    "print(list(train['BsmtQual'].unique()).remove(3))"
   ]
  },
  {
   "cell_type": "code",
   "execution_count": 224,
   "metadata": {
    "collapsed": true
   },
   "outputs": [
    {
     "name": "stderr",
     "output_type": "stream",
     "text": [
      "/opt/conda/lib/python3.6/site-packages/ipykernel_launcher.py:30: DataConversionWarning: A column-vector y was passed when a 1d array was expected. Please change the shape of y to (n_samples, ), for example using ravel().\n"
     ]
    },
    {
     "name": "stdout",
     "output_type": "stream",
     "text": [
      "[83000 83000 83000 83000 83000 83000 83000 83000 83000 83000 83000 83000\n",
      " 83000 83000 83000 83000 83000 83000 83000 83000 83000 83000 83000 83000\n",
      " 83000 83000 83000 83000 83000 83000 83000 83000 83000 83000 83000 83000\n",
      " 83000 83000 83000 83000 83000 83000 83000 83000 83000 83000 83000 83000\n",
      " 83000 83000 83000 83000 83000 83000 83000 83000 83000 83000 83000 83000\n",
      " 83000 83000 83000 83000 83000 83000 83000 83000 83000 83000 83000 83000\n",
      " 83000 83000 83000 83000 83000 83000 83000 83000 83000 83000 83000 83000\n",
      " 83000 83000 83000 83000 83000 83000 83000 83000 83000 83000 83000 83000\n",
      " 83000 83000 83000 83000 83000 83000 83000 83000 83000 83000 83000 83000\n",
      " 83000 83000 83000 83000 83000 83000 83000 83000 83000 83000 83000 83000\n",
      " 83000 83000 83000 83000 83000 83000 83000 83000 83000 83000 83000 83000\n",
      " 83000 83000 83000 83000 83000 83000 83000 83000 83000 83000 83000 83000\n",
      " 83000 83000 83000 83000 83000 83000 83000 83000 83000 83000 83000 83000\n",
      " 83000 83000 83000 83000 83000 83000 83000 83000 83000 83000 83000 83000\n",
      " 83000 83000 83000 83000 83000 83000 83000 83000 83000 83000 83000 83000\n",
      " 83000 83000 83000 83000 83000 83000 83000 83000 83000 83000 83000 83000\n",
      " 83000 83000 83000 83000 83000 83000 83000 83000 83000 83000 83000 83000\n",
      " 83000 83000 83000 83000 83000 83000 83000 83000 83000 83000 83000 83000\n",
      " 83000 83000 83000 83000 83000 83000 83000 83000 83000 83000 83000 83000\n",
      " 83000 83000 83000 83000 83000 83000 83000 83000 83000 83000 83000 83000\n",
      " 83000 83000 83000 83000 83000 83000 83000 83000 83000 83000 83000 83000\n",
      " 83000 83000 83000 83000 83000 83000 83000]\n",
      "--------------\n"
     ]
    },
    {
     "name": "stderr",
     "output_type": "stream",
     "text": [
      "/opt/conda/lib/python3.6/site-packages/ipykernel_launcher.py:30: DataConversionWarning: A column-vector y was passed when a 1d array was expected. Please change the shape of y to (n_samples, ), for example using ravel().\n"
     ]
    },
    {
     "name": "stdout",
     "output_type": "stream",
     "text": [
      "[147500 147500 147500 147500 147500 147500 147500 147500]\n",
      "--------------\n",
      "[132000 132000 132000 132000 132000 132000 132000 132000 132000 132000\n",
      " 132000 132000 132000 132000 132000 132000 132000 132000 132000 132000\n",
      " 132000 132000 132000 132000 132000 132000 132000 132000 132000 132000\n",
      " 132000 132000 132000 132000 132000 132000 132000 132000 132000 132000\n",
      " 132000 132000 132000 132000 132000 132000 132000 132000 132000 132000\n",
      " 132000 132000 132000 132000 132000 132000 132000 132000 132000 132000\n",
      " 132000 132000 132000 132000 132000 132000 132000 132000 132000 132000\n",
      " 132000 132000 132000 132000 132000 132000 132000 132000 132000 132000\n",
      " 132000]\n",
      "--------------\n"
     ]
    },
    {
     "name": "stderr",
     "output_type": "stream",
     "text": [
      "/opt/conda/lib/python3.6/site-packages/ipykernel_launcher.py:30: DataConversionWarning: A column-vector y was passed when a 1d array was expected. Please change the shape of y to (n_samples, ), for example using ravel().\n"
     ]
    }
   ],
   "source": [
    "from sklearn.neighbors import KNeighborsClassifier\n",
    "\n",
    "\n",
    "\"\"\"\n",
    "    Divides the DataFrame into two parts:\n",
    "    with na's and without na's\n",
    "\"\"\"\n",
    "def divideByNA(feature):\n",
    "    X, y, X_test = [], [], []\n",
    "    \n",
    "    l = getNaIndexes(feature)\n",
    "    for i in range(0, train.shape[0]):\n",
    "        if not(i in l):\n",
    "            X.append(train.iloc[i][feature])\n",
    "            y.append(train.iloc[i][y_feature])\n",
    "        else:\n",
    "            X_test.append(0)\n",
    "            \n",
    "    return np.reshape(X, (-1, 1)),  np.reshape(y, (-1, 1)),  np.reshape(X_test, (-1, 1))\n",
    "\"\"\"\n",
    "    Fill the nas with knn methods\n",
    "\"\"\"\n",
    "def fillNaWithKNN(feature):\n",
    "    knn = KNeighborsClassifier()\n",
    "    \n",
    "    X, y, X_test = divideByNA(feature)\n",
    "    \n",
    "    knn.fit(X, y)\n",
    "    y = knn.predict(X_test)\n",
    "    \n",
    "    print(y)\n",
    "    print('--------------')\n",
    "    \n",
    "for cat in missing_numerical_data:\n",
    "    fillNaWithKNN(cat)"
   ]
  },
  {
   "cell_type": "code",
   "execution_count": 229,
   "metadata": {},
   "outputs": [
    {
     "name": "stdout",
     "output_type": "stream",
     "text": [
      "0.5098396881007375\n"
     ]
    }
   ],
   "source": [
    "m = train['MasVnrArea'].mean()\n",
    "std = train['MasVnrArea'].std()\n",
    "\n",
    "print((196-m)/std)"
   ]
  },
  {
   "cell_type": "code",
   "execution_count": 5,
   "metadata": {},
   "outputs": [
    {
     "data": {
      "text/plain": [
       "Index(['OverallQual', 'GrLivArea', 'GarageCars', 'GarageArea', 'TotalBsmtSF',\n",
       "       '1stFlrSF', 'FullBath', 'TotRmsAbvGrd', 'YearBuilt', 'YearRemodAdd',\n",
       "       'GarageYrBlt', 'MasVnrArea', 'Fireplaces', 'BsmtFinSF1', 'LotFrontage',\n",
       "       'WoodDeckSF', '2ndFlrSF', 'OpenPorchSF', 'HalfBath', 'LotArea'],\n",
       "      dtype='object')"
      ]
     },
     "execution_count": 5,
     "metadata": {},
     "output_type": "execute_result"
    }
   ],
   "source": [
    "train.corr()['SalePrice'].nlargest(21).keys()[1:]"
   ]
  },
  {
   "cell_type": "code",
   "execution_count": null,
   "metadata": {},
   "outputs": [],
   "source": [
    "output = pd.DataFrame({'Id': test_data.Id,\n",
    "                      'SalePrice': pred})\n",
    "output.to_csv('submission.csv', index=False)"
   ]
  }
 ],
 "metadata": {
  "kernelspec": {
   "display_name": "Python 3",
   "language": "python",
   "name": "python3"
  },
  "language_info": {
   "codemirror_mode": {
    "name": "ipython",
    "version": 3
   },
   "file_extension": ".py",
   "mimetype": "text/x-python",
   "name": "python",
   "nbconvert_exporter": "python",
   "pygments_lexer": "ipython3",
   "version": "3.7.5"
  }
 },
 "nbformat": 4,
 "nbformat_minor": 4
}
