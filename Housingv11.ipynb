{
 "cells": [
  {
   "cell_type": "code",
   "execution_count": 1,
   "metadata": {
    "pycharm": {
     "is_executing": false
    }
   },
   "outputs": [],
   "source": [
    "import pandas as pd\n",
    "import numpy as np\n",
    "from sklearn.linear_model import LinearRegression\n",
    "from sklearn.neighbors import KNeighborsClassifier\n",
    "from sklearn.model_selection import train_test_split, cross_val_score\n",
    "from sklearn.metrics import r2_score\n",
    "import matplotlib.pyplot as plt\n",
    "from sklearn.tree import DecisionTreeClassifier\n",
    "%matplotlib inline\n",
    "\n",
    "# Importing data\n",
    "test = pd.read_csv('dataset/test.csv')\n",
    "train = pd.read_csv('dataset/train.csv')\n",
    "\n",
    "y_feature = 'SalePrice'\n",
    "\n",
    "# Droping All the columns with more than half of rows nans \n",
    "# simply because they might not be as important as the other columns\n",
    "train.dropna(thresh=train.shape[0] / 2, axis=1, inplace=True)\n",
    "\n",
    "# Getting the features with missing values\n",
    "# Divifing the dataset into categorical and numerical\n",
    "categorical_data = train.select_dtypes('object')\n",
    "numerical_data = train.select_dtypes(['float64', 'int64'])"
   ]
  },
  {
   "cell_type": "code",
   "execution_count": 93,
   "metadata": {},
   "outputs": [],
   "source": [
    "# Data imputation: imputate data using any model (KNN in this case) by first\n",
    "# dividing the df['column'] of the dataset into null parts and non-null parts\n",
    "\n",
    "\"\"\" returns the index of columns with nan property. \"\"\"\n",
    "def getNaIndexes(feature, df):\n",
    "    return list(df[feature].index[df[feature].apply(np.isnan)])\n",
    "\n",
    "\"\"\"\n",
    "    feature: the column of interest within the dataframe\n",
    "    df: dataframe\n",
    "    l: list of indexes\n",
    "\"\"\"\n",
    "def divideByNA(feature, l, df):\n",
    "    X, y, X_test = [], [], []\n",
    "    \n",
    "    for i in range(0, df.shape[0]):\n",
    "        if i in l:\n",
    "            X_test.append(df.iloc[i][y_feature])\n",
    "        else:\n",
    "            X.append(df.iloc[i][feature])\n",
    "            y.append(df.iloc[i][y_feature])\n",
    "            \n",
    "    return np.reshape(X, (-1, 1)),  np.reshape(y, (-1, 1)),  np.reshape(X_test, (-1, 1))\n",
    "\n",
    "\"\"\"\n",
    "    feature: gets the name of the column with na values\n",
    "    df: dataset containing the info we need\n",
    "    model: the model type that will predict the missing values\n",
    "    returns the new imputated dataframe as well as the model for further imputations\n",
    "\"\"\"\n",
    "def imputeData(feature, df, model):\n",
    "    # Get the na indexes\n",
    "    l = getNaIndexes(feature, df)\n",
    "    \n",
    "    # Split the data based on the nas\n",
    "    X, y, X_test = divideByNA(feature, l, df)\n",
    "    \n",
    "    # Fit the data\n",
    "    model.fit(X, y.ravel())\n",
    "    \n",
    "    # Make the prediction\n",
    "    y_test = model.predict(X_test)\n",
    "    \n",
    "    # Apply the new values\n",
    "    c = list(df[feature].copy())\n",
    "    index = 0\n",
    "    \n",
    "    for i in range(df.shape[0]):\n",
    "        if i in l:\n",
    "            c[i] = y[index]\n",
    "            index += 1\n",
    "    \n",
    "    df[feature] = c\n",
    "    \n",
    "    return df[feature], model\n",
    "\n",
    "def imputeGivenData(fs):\n",
    "    l = dict(train[fs].isna().any())\n",
    "    m = KNeighborsClassifier(n_neighbors=train.shape[0]//3)\n",
    "\n",
    "    for z in l:\n",
    "        if l[z]:\n",
    "            train[z], m = imputeData(z, train, m)"
   ]
  },
  {
   "cell_type": "code",
   "execution_count": 101,
   "metadata": {},
   "outputs": [],
   "source": [
    "initial_fs = list(train.corr()['SalePrice'].nlargest(22)[1:].keys())\n",
    "imputeGivenData(initial_fs)"
   ]
  },
  {
   "cell_type": "code",
   "execution_count": 128,
   "metadata": {},
   "outputs": [],
   "source": [
    "def f(l, k):\n",
    "    n = len(l)\n",
    "    d = []\n",
    "    if k == 1 or k == n: return l\n",
    "    Range = n - k + 1\n",
    "    for i in range(0, Range):\n",
    "        nl = f(l[i + 1:], k - 1)\n",
    "        for z in nl:\n",
    "            if k == len(nl) + 1:\n",
    "                nl.append(l[i])\n",
    "                d.append(nl)\n",
    "                break\n",
    "            if type(z) != list:\n",
    "                d.append([z, l[i]])\n",
    "            else:\n",
    "                zz = z.copy()\n",
    "                zz.append(l[i])\n",
    "                d.append(zz)\n",
    "    return d\n",
    "\n",
    "# Finding the features by using automation\n",
    "def tryOut(features, n):\n",
    "    \n",
    "    combs = f(features, n)\n",
    "    r2s = {}\n",
    "    index  = 0\n",
    "    \n",
    "    r2s['combination'] = []\n",
    "    r2s['mean'] = []\n",
    "    r2s['std'] = []\n",
    "    r2s['r2'] = []\n",
    "    \n",
    "    for comb in combs:\n",
    "        reg = LinearRegression()\n",
    "        X = train[comb]\n",
    "        y = train[y_feature]\n",
    "        \n",
    "        r2s['combination'].append(comb)\n",
    "        \n",
    "        X_train, X_test, y_train, y_test = train_test_split(X, y, test_size=0.20, random_state=42)\n",
    "        reg.fit(X_train, y_train)\n",
    "        y_pred = reg.predict(X_test)\n",
    "        r2 = r2_score(y_pred, y_test)\n",
    "        \n",
    "        r2s['r2'].append(r2)\n",
    "        \n",
    "        d = list(cross_val_score(reg, X,  y, cv=5))\n",
    "        \n",
    "        r2s['mean'].append(np.mean(d))\n",
    "        r2s['std'].append(np.std(d))\n",
    "        \n",
    "        index += 1\n",
    "        \n",
    "    return r2s\n",
    "\n",
    "r = pd.DataFrame(tryOut(list(train.corr()['SalePrice'].nlargest(22)[1:].keys()), 6))"
   ]
  },
  {
   "cell_type": "code",
   "execution_count": 130,
   "metadata": {},
   "outputs": [
    {
     "data": {
      "text/html": [
       "<div>\n",
       "<style scoped>\n",
       "    .dataframe tbody tr th:only-of-type {\n",
       "        vertical-align: middle;\n",
       "    }\n",
       "\n",
       "    .dataframe tbody tr th {\n",
       "        vertical-align: top;\n",
       "    }\n",
       "\n",
       "    .dataframe thead th {\n",
       "        text-align: right;\n",
       "    }\n",
       "</style>\n",
       "<table border=\"1\" class=\"dataframe\">\n",
       "  <thead>\n",
       "    <tr style=\"text-align: right;\">\n",
       "      <th></th>\n",
       "      <th>combination</th>\n",
       "      <th>mean</th>\n",
       "      <th>std</th>\n",
       "      <th>r2</th>\n",
       "    </tr>\n",
       "  </thead>\n",
       "  <tbody>\n",
       "    <tr>\n",
       "      <th>0</th>\n",
       "      <td>[1stFlrSF, TotalBsmtSF, GarageArea, GarageCars...</td>\n",
       "      <td>0.748216</td>\n",
       "      <td>0.052011</td>\n",
       "      <td>0.655776</td>\n",
       "    </tr>\n",
       "    <tr>\n",
       "      <th>1</th>\n",
       "      <td>[FullBath, TotalBsmtSF, GarageArea, GarageCars...</td>\n",
       "      <td>0.746576</td>\n",
       "      <td>0.052072</td>\n",
       "      <td>0.654659</td>\n",
       "    </tr>\n",
       "    <tr>\n",
       "      <th>2</th>\n",
       "      <td>[TotRmsAbvGrd, TotalBsmtSF, GarageArea, Garage...</td>\n",
       "      <td>0.745643</td>\n",
       "      <td>0.052658</td>\n",
       "      <td>0.652363</td>\n",
       "    </tr>\n",
       "    <tr>\n",
       "      <th>3</th>\n",
       "      <td>[YearBuilt, TotalBsmtSF, GarageArea, GarageCar...</td>\n",
       "      <td>0.754981</td>\n",
       "      <td>0.053135</td>\n",
       "      <td>0.667889</td>\n",
       "    </tr>\n",
       "    <tr>\n",
       "      <th>4</th>\n",
       "      <td>[YearRemodAdd, TotalBsmtSF, GarageArea, Garage...</td>\n",
       "      <td>0.753578</td>\n",
       "      <td>0.055703</td>\n",
       "      <td>0.659698</td>\n",
       "    </tr>\n",
       "    <tr>\n",
       "      <th>5</th>\n",
       "      <td>[Fireplaces, TotalBsmtSF, GarageArea, GarageCa...</td>\n",
       "      <td>0.750523</td>\n",
       "      <td>0.054090</td>\n",
       "      <td>0.658155</td>\n",
       "    </tr>\n",
       "    <tr>\n",
       "      <th>6</th>\n",
       "      <td>[BsmtFinSF1, TotalBsmtSF, GarageArea, GarageCa...</td>\n",
       "      <td>0.754987</td>\n",
       "      <td>0.059916</td>\n",
       "      <td>0.683141</td>\n",
       "    </tr>\n",
       "    <tr>\n",
       "      <th>7</th>\n",
       "      <td>[WoodDeckSF, TotalBsmtSF, GarageArea, GarageCa...</td>\n",
       "      <td>0.752076</td>\n",
       "      <td>0.050560</td>\n",
       "      <td>0.654455</td>\n",
       "    </tr>\n",
       "    <tr>\n",
       "      <th>8</th>\n",
       "      <td>[2ndFlrSF, TotalBsmtSF, GarageArea, GarageCars...</td>\n",
       "      <td>0.747743</td>\n",
       "      <td>0.052109</td>\n",
       "      <td>0.653875</td>\n",
       "    </tr>\n",
       "    <tr>\n",
       "      <th>9</th>\n",
       "      <td>[OpenPorchSF, TotalBsmtSF, GarageArea, GarageC...</td>\n",
       "      <td>0.745495</td>\n",
       "      <td>0.051755</td>\n",
       "      <td>0.654671</td>\n",
       "    </tr>\n",
       "  </tbody>\n",
       "</table>\n",
       "</div>"
      ],
      "text/plain": [
       "                                         combination      mean       std  \\\n",
       "0  [1stFlrSF, TotalBsmtSF, GarageArea, GarageCars...  0.748216  0.052011   \n",
       "1  [FullBath, TotalBsmtSF, GarageArea, GarageCars...  0.746576  0.052072   \n",
       "2  [TotRmsAbvGrd, TotalBsmtSF, GarageArea, Garage...  0.745643  0.052658   \n",
       "3  [YearBuilt, TotalBsmtSF, GarageArea, GarageCar...  0.754981  0.053135   \n",
       "4  [YearRemodAdd, TotalBsmtSF, GarageArea, Garage...  0.753578  0.055703   \n",
       "5  [Fireplaces, TotalBsmtSF, GarageArea, GarageCa...  0.750523  0.054090   \n",
       "6  [BsmtFinSF1, TotalBsmtSF, GarageArea, GarageCa...  0.754987  0.059916   \n",
       "7  [WoodDeckSF, TotalBsmtSF, GarageArea, GarageCa...  0.752076  0.050560   \n",
       "8  [2ndFlrSF, TotalBsmtSF, GarageArea, GarageCars...  0.747743  0.052109   \n",
       "9  [OpenPorchSF, TotalBsmtSF, GarageArea, GarageC...  0.745495  0.051755   \n",
       "\n",
       "         r2  \n",
       "0  0.655776  \n",
       "1  0.654659  \n",
       "2  0.652363  \n",
       "3  0.667889  \n",
       "4  0.659698  \n",
       "5  0.658155  \n",
       "6  0.683141  \n",
       "7  0.654455  \n",
       "8  0.653875  \n",
       "9  0.654671  "
      ]
     },
     "execution_count": 130,
     "metadata": {},
     "output_type": "execute_result"
    }
   ],
   "source": [
    "r.head(10)"
   ]
  },
  {
   "cell_type": "code",
   "execution_count": 131,
   "metadata": {},
   "outputs": [
    {
     "data": {
      "image/png": "[encoded data removed]",
      "text/plain": [
       "<Figure size 432x288 with 1 Axes>"
      ]
     },
     "metadata": {
      "needs_background": "light"
     },
     "output_type": "display_data"
    }
   ],
   "source": [
    "# Plotting\n",
    "plt.plot(r.index,r['r2'], color='b')\n",
    "plt.plot(r.index,r['mean'], color='r')\n",
    "plt.xlabel('Combinations')\n",
    "plt.ylabel('Values')\n",
    "plt.show()"
   ]
  },
  {
   "cell_type": "code",
   "execution_count": 184,
   "metadata": {},
   "outputs": [
    {
     "data": {
      "text/plain": [
       "33609    0.000024\n",
       "41383    0.000043\n",
       "41482    0.000058\n",
       "39497    0.000061\n",
       "40973    0.000069\n",
       "53395    0.000099\n",
       "39223    0.000159\n",
       "44694    0.000162\n",
       "53593    0.000189\n",
       "50235    0.000203\n",
       "41586    0.000209\n",
       "47121    0.000217\n",
       "34356    0.000258\n",
       "47124    0.000258\n",
       "39555    0.000275\n",
       "26788    0.000318\n",
       "29252    0.000344\n",
       "38737    0.000354\n",
       "52961    0.000366\n",
       "41515    0.000397\n",
       "50197    0.000418\n",
       "28137    0.000419\n",
       "28964    0.000444\n",
       "41047    0.000467\n",
       "35430    0.000498\n",
       "45498    0.000527\n",
       "35385    0.000529\n",
       "41228    0.000529\n",
       "41311    0.000557\n",
       "49280    0.000560\n",
       "40523    0.000563\n",
       "45780    0.000575\n",
       "33156    0.000592\n",
       "33030    0.000602\n",
       "42510    0.000609\n",
       "45471    0.000622\n",
       "42536    0.000640\n",
       "34349    0.000643\n",
       "41439    0.000663\n",
       "42534    0.000672\n",
       "50638    0.000709\n",
       "38669    0.000748\n",
       "33632    0.000751\n",
       "45037    0.000787\n",
       "53037    0.000799\n",
       "47772    0.000835\n",
       "29266    0.000846\n",
       "47673    0.000852\n",
       "54077    0.000853\n",
       "46983    0.000885\n",
       "Name: r2, dtype: float64"
      ]
     },
     "execution_count": 184,
     "metadata": {},
     "output_type": "execute_result"
    }
   ],
   "source": [
    "abs(r['r2']).nsmallest(50)"
   ]
  },
  {
   "cell_type": "code",
   "execution_count": 175,
   "metadata": {},
   "outputs": [
    {
     "name": "stdout",
     "output_type": "stream",
     "text": [
      "2.027385396040747 2.527385396040747\n"
     ]
    }
   ],
   "source": [
    "z = train['SalePrice'].mean() / train['SalePrice'].std()\n",
    "print(z - 0.25, z + 0.25)"
   ]
  },
  {
   "cell_type": "code",
   "execution_count": 192,
   "metadata": {},
   "outputs": [
    {
     "data": {
      "text/plain": [
       "BsmtUnfSF      True\n",
       "LotArea       False\n",
       "HalfBath      False\n",
       "WoodDeckSF    False\n",
       "FullBath      False\n",
       "GarageCars     True\n",
       "dtype: bool"
      ]
     },
     "execution_count": 192,
     "metadata": {},
     "output_type": "execute_result"
    }
   ],
   "source": [
    "l = r.iloc[33609].combination\n",
    "test[l].isna().any()"
   ]
  },
  {
   "cell_type": "code",
   "execution_count": 191,
   "metadata": {},
   "outputs": [
    {
     "data": {
      "text/plain": [
       "[0.5786933790175827, 0.5718414107435911, 0.49390894413102526]"
      ]
     },
     "execution_count": 191,
     "metadata": {},
     "output_type": "execute_result"
    }
   ],
   "source": [
    "reg = LinearRegression()\n",
    "        \n",
    "reg.fit(train[l], train['SalePrice'])\n",
    "y_pred = reg.predict(test[l])\n",
    "\n",
    "list(cross_val_score(reg, train[l],  train['SalePrice'], cv=3))"
   ]
  },
  {
   "cell_type": "code",
   "execution_count": null,
   "metadata": {},
   "outputs": [],
   "source": []
  },
  {
   "cell_type": "code",
   "execution_count": null,
   "outputs": [],
   "source": [
    "\n"
   ],
   "metadata": {
    "collapsed": false,
    "pycharm": {
     "name": "#%%\n"
    }
   }
  }
 ],
 "metadata": {
  "kernelspec": {
   "name": "python3",
   "language": "python",
   "display_name": "Python 3"
  },
  "language_info": {
   "codemirror_mode": {
    "name": "ipython",
    "version": 3
   },
   "file_extension": ".py",
   "mimetype": "text/x-python",
   "name": "python",
   "nbconvert_exporter": "python",
   "pygments_lexer": "ipython3",
   "version": "3.7.5"
  },
  "pycharm": {
   "stem_cell": {
    "cell_type": "raw",
    "source": [],
    "metadata": {
     "collapsed": false
    }
   }
  }
 },
 "nbformat": 4,
 "nbformat_minor": 2
}