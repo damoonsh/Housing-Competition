{
 "cells": [
  {
   "cell_type": "code",
   "execution_count": 1,
   "metadata": {
    "pycharm": {
     "is_executing": false
    }
   },
   "outputs": [],
   "source": [
    "# Imports:\n",
    "import pandas as pd\n",
    "import numpy as np\n",
    "# non-library stuff\n",
    "from utils import retrieve_data, encode_categorical as enc\n",
    "\n",
    "data = retrieve_data()\n",
    "train = data['train']\n",
    "cat_list = data['train_cat_list']"
   ]
  },
  {
   "cell_type": "markdown",
   "metadata": {},
   "source": [
    "1. Preprocess:\n",
    "    - Impute missing numerical values\n",
    "    - Encode categorical variables \n",
    "    - Try to accordingly (to their discrption) preprocess data\n",
    "2. Find the best features by running linear regression on the different combinations of data"
   ]
  },
  {
   "cell_type": "code",
   "execution_count": 25,
   "metadata": {},
   "outputs": [],
   "source": [
    "avg = enc(train.copy(), cat_list).corr()['SalePrice'].nlargest(32)[1:].keys().to_list()\n",
    "soft = enc(train.copy(), cat_list, Type='softmax').corr()['SalePrice'].nlargest(32)[1:].keys().to_list()\n",
    "base = train.corr()['SalePrice'].nlargest(32)[1:].keys().to_list()"
   ]
  },
  {
   "cell_type": "code",
   "execution_count": 18,
   "metadata": {},
   "outputs": [
    {
     "data": {
      "text/plain": [
       "{'BsmtQual',\n",
       " 'ExterQual',\n",
       " 'FireplaceQu',\n",
       " 'Foundation',\n",
       " 'GarageFinish',\n",
       " 'GarageType',\n",
       " 'KitchenQual',\n",
       " 'Neighborhood'}"
      ]
     },
     "execution_count": 18,
     "metadata": {},
     "output_type": "execute_result"
    }
   ],
   "source": [
    "set(avg) & set(cat_list)"
   ]
  },
  {
   "cell_type": "code",
   "execution_count": 20,
   "metadata": {},
   "outputs": [
    {
     "data": {
      "text/plain": [
       "{'BsmtQual',\n",
       " 'ExterQual',\n",
       " 'FireplaceQu',\n",
       " 'Foundation',\n",
       " 'GarageFinish',\n",
       " 'GarageType',\n",
       " 'KitchenQual',\n",
       " 'Neighborhood'}"
      ]
     },
     "execution_count": 20,
     "metadata": {},
     "output_type": "execute_result"
    }
   ],
   "source": [
    "set(soft) & set(cat_list)"
   ]
  },
  {
   "cell_type": "code",
   "execution_count": 30,
   "metadata": {},
   "outputs": [
    {
     "data": {
      "text/plain": [
       "OverallQual     0.790982\n",
       "Neighborhood    0.738630\n",
       "GrLivArea       0.708624\n",
       "ExterQual       0.690933\n",
       "BsmtQual        0.681905\n",
       "KitchenQual     0.675721\n",
       "GarageCars      0.640409\n",
       "GarageArea      0.623431\n",
       "TotalBsmtSF     0.613581\n",
       "1stFlrSF        0.605852\n",
       "FullBath        0.560664\n",
       "GarageFinish    0.553059\n",
       "FireplaceQu     0.542181\n",
       "TotRmsAbvGrd    0.533723\n",
       "YearBuilt       0.522897\n",
       "YearRemodAdd    0.507101\n",
       "Foundation      0.506328\n",
       "GarageType      0.499204\n",
       "GarageYrBlt     0.486362\n",
       "MasVnrArea      0.477493\n",
       "dtype: float64"
      ]
     },
     "execution_count": 30,
     "metadata": {},
     "output_type": "execute_result"
    }
   ],
   "source": [
    "enc(train.copy(), cat_list).corrwith(train['SalePrice']).nlargest(21)[1:]"
   ]
  }
 ],
 "metadata": {
  "kernelspec": {
   "display_name": "Python 3.8.2 64-bit",
   "language": "python",
   "name": "python38264bitfaf1cd899ccd46d6b664fe958a93f2f6"
  },
  "language_info": {
   "codemirror_mode": {
    "name": "ipython",
    "version": 3
   },
   "file_extension": ".py",
   "mimetype": "text/x-python",
   "name": "python",
   "nbconvert_exporter": "python",
   "pygments_lexer": "ipython3",
   "version": "3.8.2"
  },
  "pycharm": {
   "stem_cell": {
    "cell_type": "raw",
    "metadata": {
     "collapsed": false
    },
    "source": []
   }
  }
 },
 "nbformat": 4,
 "nbformat_minor": 4
}
