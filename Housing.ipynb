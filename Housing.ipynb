{
 "cells": [
  {
   "cell_type": "code",
   "execution_count": 6,
   "metadata": {},
   "outputs": [],
   "source": [
    "# Imports:\n",
    "import pandas as pd\n",
    "import numpy as np\n",
    "# non-library stuff\n",
    "from utils import *\n",
    "\n",
    "# Retrieve Data\n",
    "data = retrieve_data()\n",
    "train = data['train']\n",
    "test = data['test']\n",
    "train_num = data['train_num']\n",
    "y_feature = 'SalePrice'"
   ]
  },
  {
   "cell_type": "markdown",
   "metadata": {},
   "source": [
    "1. Preprocess:\n",
    "    - Impute missing numerical values\n",
    "    - Encode categorical variables \n",
    "    - Try to accordingly (to their discrption) preprocess data\n",
    "2. Find the best features by running linear regression on the different combinations of data"
   ]
  },
  {
   "cell_type": "code",
   "execution_count": 2,
   "metadata": {},
   "outputs": [
    {
     "data": {
      "text/plain": [
       "['LotFrontage', 'MasVnrArea', 'GarageYrBlt']"
      ]
     },
     "execution_count": 2,
     "metadata": {},
     "output_type": "execute_result"
    }
   ],
   "source": []
  },
  {
   "cell_type": "code",
   "execution_count": 4,
   "metadata": {},
   "outputs": [
    {
     "data": {
      "text/plain": [
       "False"
      ]
     },
     "execution_count": 4,
     "metadata": {},
     "output_type": "execute_result"
    }
   ],
   "source": [
    "True in impute_numerical(train).isna().any()"
   ]
  },
  {
   "cell_type": "code",
   "execution_count": 5,
   "metadata": {},
   "outputs": [
    {
     "data": {
      "text/plain": [
       "False"
      ]
     },
     "execution_count": 5,
     "metadata": {},
     "output_type": "execute_result"
    }
   ],
   "source": [
    "# LotFrontage and GarageYrBlt should equal zeos \n",
    "# for NaN's since it means 0 meters of lot frontage\n",
    "train['LotFrontage'] = train['LotFrontage'].fillna(0)\n",
    "train['MasVnrArea'] = train['MasVnrArea'].fillna(0)\n",
    "train['GarageYrBlt'] = fillNaWithKNN('GarageYrBlt', data['train'].copy(), 'SalePrice')\n",
    "\n",
    "# The missing numerical features\n",
    "# data['train_num_missing']\n",
    "\n",
    "# Cheking to see if the imputations have worked or not\n",
    "True in train[data['train_num_list']].isna().any()"
   ]
  },
  {
   "cell_type": "code",
   "execution_count": 33,
   "metadata": {},
   "outputs": [],
   "source": [
    "# testing KNNIMputator module\n",
    "from KNNImputator import KKNImputator"
   ]
  },
  {
   "cell_type": "code",
   "execution_count": null,
   "metadata": {},
   "outputs": [],
   "source": [
    "knn = KKNImputator()"
   ]
  }
 ],
 "metadata": {
  "kernelspec": {
   "display_name": "Python 3.8.2 64-bit",
   "language": "python",
   "name": "python38264bitfaf1cd899ccd46d6b664fe958a93f2f6"
  },
  "language_info": {
   "codemirror_mode": {
    "name": "ipython",
    "version": 3
   },
   "file_extension": ".py",
   "mimetype": "text/x-python",
   "name": "python",
   "nbconvert_exporter": "python",
   "pygments_lexer": "ipython3",
   "version": "3.8.2"
  },
  "pycharm": {
   "stem_cell": {
    "cell_type": "raw",
    "metadata": {
     "collapsed": false
    },
    "source": []
   }
  }
 },
 "nbformat": 4,
 "nbformat_minor": 4
}
