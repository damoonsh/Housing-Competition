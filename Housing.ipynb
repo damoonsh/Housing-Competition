{
 "cells": [
  {
   "cell_type": "code",
   "execution_count": 2,
   "metadata": {
    "pycharm": {
     "is_executing": false
    }
   },
   "outputs": [],
   "source": [
    "import pandas as pd\n",
    "import numpy as np\n",
    "from sklearn.model_selection import train_test_split\n",
    "import matplotlib.pyplot as plt\n",
    "from FeatureSelection import *\n",
    "from utils import *\n",
    "%matplotlib inline"
   ]
  },
  {
   "cell_type": "code",
   "execution_count": 94,
   "metadata": {},
   "outputs": [],
   "source": [
    "# Importing data\n",
    "\n",
    "test = pd.read_csv('dataset/test.csv')\n",
    "train = pd.read_csv('dataset/train.csv')\n",
    "\n",
    "y_feature = 'SalePrice'\n",
    "\n",
    "# Droping All the columns with more than half of rows nans \n",
    "# simply because they might not be as important as the other columns\n",
    "train.dropna(thresh=train.shape[0] / 2, axis=1, inplace=True)\n",
    "\n",
    "# Getting the features with missing values\n",
    "# Divifing the dataset into categorical and numerical\n",
    "categorical_data = train.select_dtypes('object')\n",
    "numerical_data = train.select_dtypes(['float64', 'int64'])\n",
    "\n",
    "# Get the columns with missing data\n",
    "missing_categorical_data = categorical_data.columns[categorical_data.isna().any()].tolist()\n",
    "missing_numerical_data = numerical_data.columns[numerical_data.isna().any()].tolist()\n",
    "\n",
    "# Imputating data with KNN: Try doing this with make pipleline\n",
    "for feature in missing_numerical_data:\n",
    "    train[feature] = fillNaWithKNN(feature, train, y_feature)\n",
    "\n",
    "all_features_list = train.corr()['SalePrice'][1:-1].keys().to_list()\n",
    "poly_train = polynomial_options(train, all_features_list, 'SalePrice')\n",
    "\n",
    "handPicked_features = [\n",
    "    'OverallQual^3', 'OverallQual^4', 'OverallQual^2', 'OverallQual', \n",
    "    'GrLivArea', 'GarageCars^2'\n",
    "]\n",
    "doubted_features = poly_train.corr()['SalePrice'].nlargest(50)[20:26].keys().to_list()"
   ]
  },
  {
   "cell_type": "code",
   "execution_count": 85,
   "metadata": {},
   "outputs": [
    {
     "output_type": "execute_result",
     "data": {
      "text/plain": "-1.9012474697028142e+63"
     },
     "metadata": {},
     "execution_count": 85
    }
   ],
   "source": [
    "from sklearn.linear_model import SGDRegressor\n",
    "\n",
    "sgd = SGDRegressor(eta0=0.55, max_iter=1600, n_iter_no_change=45)\n",
    "X_train, X_test, y_train, y_test = train_test_split(poly_train[handPicked_features], train[y_feature], test_size=0.33, random_state=42)\n",
    "\n",
    "sgd.fit(poly_train[handPicked_features], train['SalePrice'])\n",
    "sgd.fit(X_train, y_train)\n",
    "r2_score(y_true=y_test, y_pred=sgd.predict(X_test))"
   ]
  },
  {
   "cell_type": "code",
   "execution_count": 86,
   "metadata": {},
   "outputs": [
    {
     "output_type": "execute_result",
     "data": {
      "text/plain": "SGDRegressor(alpha=0.0001, average=False, early_stopping=False, epsilon=0.1,\n             eta0=0.55, fit_intercept=True, l1_ratio=0.15,\n             learning_rate='invscaling', loss='squared_loss', max_iter=1600,\n             n_iter_no_change=45, penalty='l2', power_t=0.25, random_state=None,\n             shuffle=True, tol=0.001, validation_fraction=0.1, verbose=0,\n             warm_start=False)"
     },
     "metadata": {},
     "execution_count": 86
    }
   ],
   "source": [
    "sgd.fit(poly_train[handPicked_features], train[y_feature])"
   ]
  },
  {
   "cell_type": "code",
   "execution_count": 87,
   "metadata": {},
   "outputs": [],
   "source": [
    "from sklearn.preprocessing import normalize\n",
    "\n",
    "# Imputating the test data\n",
    "numerical_test = test.select_dtypes(['float64', 'int64'])\n",
    "numerical_test.fillna(numerical_test.mean())\n",
    "X_test = polynomial_options(numerical_test, test.corr()[1:-1], y_feature)\n",
    "X_test = (X_test - X_test.mean()) / X_test.std()"
   ]
  },
  {
   "cell_type": "code",
   "execution_count": 91,
   "metadata": {},
   "outputs": [
    {
     "output_type": "execute_result",
     "data": {
      "text/plain": "      OverallQual^3  OverallQual^4  OverallQual^2  OverallQual  GrLivArea  \\\n0         -0.753565      -0.705972      -0.775213    -0.750844  -1.215171   \n1         -0.255868      -0.318894      -0.166772    -0.054858  -0.323429   \n2         -0.753565      -0.705972      -0.775213    -0.750844   0.294407   \n3         -0.255868      -0.318894      -0.166772    -0.054858   0.242921   \n4          1.363016       1.296335       1.381986     1.337113  -0.424342   \n...             ...            ...            ...          ...        ...   \n1454      -1.087187      -0.918836      -1.273028    -1.446829  -0.811519   \n1455      -1.087187      -0.918836      -1.273028    -1.446829  -0.811519   \n1456      -0.753565      -0.705972      -0.775213    -0.750844  -0.539671   \n1457      -0.753565      -0.705972      -0.775213    -0.750844  -1.062772   \n1458       0.438721       0.318545       0.552294     0.641127   1.058464   \n\n      GarageCars^2  YearBuilt^4  \n0        -0.963646    -0.365773  \n1        -0.963646    -0.463968  \n2         0.098867     0.848191  \n3         0.098867     0.882864  \n4         0.098867     0.675606  \n...            ...          ...  \n1454     -1.317817    -0.068474  \n1455     -0.963646    -0.068474  \n1456      0.098867    -0.398555  \n1457     -1.317817     0.675606  \n1458      1.869721     0.710020  \n\n[1459 rows x 7 columns]",
      "text/html": "<div>\n<style scoped>\n    .dataframe tbody tr th:only-of-type {\n        vertical-align: middle;\n    }\n\n    .dataframe tbody tr th {\n        vertical-align: top;\n    }\n\n    .dataframe thead th {\n        text-align: right;\n    }\n</style>\n<table border=\"1\" class=\"dataframe\">\n  <thead>\n    <tr style=\"text-align: right;\">\n      <th></th>\n      <th>OverallQual^3</th>\n      <th>OverallQual^4</th>\n      <th>OverallQual^2</th>\n      <th>OverallQual</th>\n      <th>GrLivArea</th>\n      <th>GarageCars^2</th>\n      <th>YearBuilt^4</th>\n    </tr>\n  </thead>\n  <tbody>\n    <tr>\n      <th>0</th>\n      <td>-0.753565</td>\n      <td>-0.705972</td>\n      <td>-0.775213</td>\n      <td>-0.750844</td>\n      <td>-1.215171</td>\n      <td>-0.963646</td>\n      <td>-0.365773</td>\n    </tr>\n    <tr>\n      <th>1</th>\n      <td>-0.255868</td>\n      <td>-0.318894</td>\n      <td>-0.166772</td>\n      <td>-0.054858</td>\n      <td>-0.323429</td>\n      <td>-0.963646</td>\n      <td>-0.463968</td>\n    </tr>\n    <tr>\n      <th>2</th>\n      <td>-0.753565</td>\n      <td>-0.705972</td>\n      <td>-0.775213</td>\n      <td>-0.750844</td>\n      <td>0.294407</td>\n      <td>0.098867</td>\n      <td>0.848191</td>\n    </tr>\n    <tr>\n      <th>3</th>\n      <td>-0.255868</td>\n      <td>-0.318894</td>\n      <td>-0.166772</td>\n      <td>-0.054858</td>\n      <td>0.242921</td>\n      <td>0.098867</td>\n      <td>0.882864</td>\n    </tr>\n    <tr>\n      <th>4</th>\n      <td>1.363016</td>\n      <td>1.296335</td>\n      <td>1.381986</td>\n      <td>1.337113</td>\n      <td>-0.424342</td>\n      <td>0.098867</td>\n      <td>0.675606</td>\n    </tr>\n    <tr>\n      <th>...</th>\n      <td>...</td>\n      <td>...</td>\n      <td>...</td>\n      <td>...</td>\n      <td>...</td>\n      <td>...</td>\n      <td>...</td>\n    </tr>\n    <tr>\n      <th>1454</th>\n      <td>-1.087187</td>\n      <td>-0.918836</td>\n      <td>-1.273028</td>\n      <td>-1.446829</td>\n      <td>-0.811519</td>\n      <td>-1.317817</td>\n      <td>-0.068474</td>\n    </tr>\n    <tr>\n      <th>1455</th>\n      <td>-1.087187</td>\n      <td>-0.918836</td>\n      <td>-1.273028</td>\n      <td>-1.446829</td>\n      <td>-0.811519</td>\n      <td>-0.963646</td>\n      <td>-0.068474</td>\n    </tr>\n    <tr>\n      <th>1456</th>\n      <td>-0.753565</td>\n      <td>-0.705972</td>\n      <td>-0.775213</td>\n      <td>-0.750844</td>\n      <td>-0.539671</td>\n      <td>0.098867</td>\n      <td>-0.398555</td>\n    </tr>\n    <tr>\n      <th>1457</th>\n      <td>-0.753565</td>\n      <td>-0.705972</td>\n      <td>-0.775213</td>\n      <td>-0.750844</td>\n      <td>-1.062772</td>\n      <td>-1.317817</td>\n      <td>0.675606</td>\n    </tr>\n    <tr>\n      <th>1458</th>\n      <td>0.438721</td>\n      <td>0.318545</td>\n      <td>0.552294</td>\n      <td>0.641127</td>\n      <td>1.058464</td>\n      <td>1.869721</td>\n      <td>0.710020</td>\n    </tr>\n  </tbody>\n</table>\n<p>1459 rows × 7 columns</p>\n</div>"
     },
     "metadata": {},
     "execution_count": 91
    }
   ],
   "source": [
    "X_test"
   ]
  },
  {
   "cell_type": "code",
   "execution_count": 89,
   "metadata": {},
   "outputs": [],
   "source": [
    "X_test = X_test[handPicked_features]"
   ]
  },
  {
   "cell_type": "code",
   "execution_count": 90,
   "metadata": {},
   "outputs": [
    {
     "output_type": "error",
     "ename": "ValueError",
     "evalue": "Input contains NaN, infinity or a value too large for dtype('float64').",
     "traceback": [
      "\u001b[0;31m---------------------------------------------------------------------------\u001b[0m",
      "\u001b[0;31mValueError\u001b[0m                                Traceback (most recent call last)",
      "\u001b[0;32m<ipython-input-90-df700b807006>\u001b[0m in \u001b[0;36m<module>\u001b[0;34m\u001b[0m\n\u001b[0;32m----> 1\u001b[0;31m \u001b[0mpred\u001b[0m \u001b[0;34m=\u001b[0m \u001b[0msgd\u001b[0m\u001b[0;34m.\u001b[0m\u001b[0mpredict\u001b[0m\u001b[0;34m(\u001b[0m\u001b[0mX_test\u001b[0m\u001b[0;34m)\u001b[0m\u001b[0;34m\u001b[0m\u001b[0;34m\u001b[0m\u001b[0m\n\u001b[0m\u001b[1;32m      2\u001b[0m \u001b[0;34m\u001b[0m\u001b[0m\n\u001b[1;32m      3\u001b[0m output = pd.DataFrame({'Id': test.Id,\n\u001b[1;32m      4\u001b[0m                       'SalePrice': pred})\n\u001b[1;32m      5\u001b[0m \u001b[0moutput\u001b[0m\u001b[0;34m.\u001b[0m\u001b[0mto_csv\u001b[0m\u001b[0;34m(\u001b[0m\u001b[0;34m'submission.csv'\u001b[0m\u001b[0;34m,\u001b[0m \u001b[0mindex\u001b[0m\u001b[0;34m=\u001b[0m\u001b[0;32mFalse\u001b[0m\u001b[0;34m)\u001b[0m\u001b[0;34m\u001b[0m\u001b[0;34m\u001b[0m\u001b[0m\n",
      "\u001b[0;32m/usr/lib/python3/dist-packages/sklearn/linear_model/_stochastic_gradient.py\u001b[0m in \u001b[0;36mpredict\u001b[0;34m(self, X)\u001b[0m\n\u001b[1;32m   1252\u001b[0m            \u001b[0mPredicted\u001b[0m \u001b[0mtarget\u001b[0m \u001b[0mvalues\u001b[0m \u001b[0mper\u001b[0m \u001b[0melement\u001b[0m \u001b[0;32min\u001b[0m \u001b[0mX\u001b[0m\u001b[0;34m.\u001b[0m\u001b[0;34m\u001b[0m\u001b[0;34m\u001b[0m\u001b[0m\n\u001b[1;32m   1253\u001b[0m         \"\"\"\n\u001b[0;32m-> 1254\u001b[0;31m         \u001b[0;32mreturn\u001b[0m \u001b[0mself\u001b[0m\u001b[0;34m.\u001b[0m\u001b[0m_decision_function\u001b[0m\u001b[0;34m(\u001b[0m\u001b[0mX\u001b[0m\u001b[0;34m)\u001b[0m\u001b[0;34m\u001b[0m\u001b[0;34m\u001b[0m\u001b[0m\n\u001b[0m\u001b[1;32m   1255\u001b[0m \u001b[0;34m\u001b[0m\u001b[0m\n\u001b[1;32m   1256\u001b[0m     def _fit_regressor(self, X, y, alpha, C, loss, learning_rate,\n",
      "\u001b[0;32m/usr/lib/python3/dist-packages/sklearn/linear_model/_stochastic_gradient.py\u001b[0m in \u001b[0;36m_decision_function\u001b[0;34m(self, X)\u001b[0m\n\u001b[1;32m   1234\u001b[0m         \u001b[0mcheck_is_fitted\u001b[0m\u001b[0;34m(\u001b[0m\u001b[0mself\u001b[0m\u001b[0;34m)\u001b[0m\u001b[0;34m\u001b[0m\u001b[0;34m\u001b[0m\u001b[0m\n\u001b[1;32m   1235\u001b[0m \u001b[0;34m\u001b[0m\u001b[0m\n\u001b[0;32m-> 1236\u001b[0;31m         \u001b[0mX\u001b[0m \u001b[0;34m=\u001b[0m \u001b[0mcheck_array\u001b[0m\u001b[0;34m(\u001b[0m\u001b[0mX\u001b[0m\u001b[0;34m,\u001b[0m \u001b[0maccept_sparse\u001b[0m\u001b[0;34m=\u001b[0m\u001b[0;34m'csr'\u001b[0m\u001b[0;34m)\u001b[0m\u001b[0;34m\u001b[0m\u001b[0;34m\u001b[0m\u001b[0m\n\u001b[0m\u001b[1;32m   1237\u001b[0m \u001b[0;34m\u001b[0m\u001b[0m\n\u001b[1;32m   1238\u001b[0m         scores = safe_sparse_dot(X, self.coef_.T,\n",
      "\u001b[0;32m/usr/lib/python3/dist-packages/sklearn/utils/validation.py\u001b[0m in \u001b[0;36mcheck_array\u001b[0;34m(array, accept_sparse, accept_large_sparse, dtype, order, copy, force_all_finite, ensure_2d, allow_nd, ensure_min_samples, ensure_min_features, warn_on_dtype, estimator)\u001b[0m\n\u001b[1;32m    575\u001b[0m \u001b[0;34m\u001b[0m\u001b[0m\n\u001b[1;32m    576\u001b[0m         \u001b[0;32mif\u001b[0m \u001b[0mforce_all_finite\u001b[0m\u001b[0;34m:\u001b[0m\u001b[0;34m\u001b[0m\u001b[0;34m\u001b[0m\u001b[0m\n\u001b[0;32m--> 577\u001b[0;31m             _assert_all_finite(array,\n\u001b[0m\u001b[1;32m    578\u001b[0m                                allow_nan=force_all_finite == 'allow-nan')\n\u001b[1;32m    579\u001b[0m \u001b[0;34m\u001b[0m\u001b[0m\n",
      "\u001b[0;32m/usr/lib/python3/dist-packages/sklearn/utils/validation.py\u001b[0m in \u001b[0;36m_assert_all_finite\u001b[0;34m(X, allow_nan, msg_dtype)\u001b[0m\n\u001b[1;32m     55\u001b[0m                 not allow_nan and not np.isfinite(X).all()):\n\u001b[1;32m     56\u001b[0m             \u001b[0mtype_err\u001b[0m \u001b[0;34m=\u001b[0m \u001b[0;34m'infinity'\u001b[0m \u001b[0;32mif\u001b[0m \u001b[0mallow_nan\u001b[0m \u001b[0;32melse\u001b[0m \u001b[0;34m'NaN, infinity'\u001b[0m\u001b[0;34m\u001b[0m\u001b[0;34m\u001b[0m\u001b[0m\n\u001b[0;32m---> 57\u001b[0;31m             raise ValueError(\n\u001b[0m\u001b[1;32m     58\u001b[0m                     \u001b[0mmsg_err\u001b[0m\u001b[0;34m.\u001b[0m\u001b[0mformat\u001b[0m\u001b[0;34m\u001b[0m\u001b[0;34m\u001b[0m\u001b[0m\n\u001b[1;32m     59\u001b[0m                     (type_err,\n",
      "\u001b[0;31mValueError\u001b[0m: Input contains NaN, infinity or a value too large for dtype('float64')."
     ]
    }
   ],
   "source": [
    "pred = sgd.predict(X_test)\n",
    "\n",
    "output = pd.DataFrame({'Id': test.Id,\n",
    "                      'SalePrice': pred})\n",
    "output.to_csv('submission.csv', index=False)"
   ]
  }
 ],
 "metadata": {
  "kernelspec": {
   "display_name": "Python 3.8.2 64-bit",
   "language": "python",
   "name": "python38264bitfaf1cd899ccd46d6b664fe958a93f2f6"
  },
  "language_info": {
   "codemirror_mode": {
    "name": "ipython",
    "version": 3
   },
   "file_extension": ".py",
   "mimetype": "text/x-python",
   "name": "python",
   "nbconvert_exporter": "python",
   "pygments_lexer": "ipython3",
   "version": "3.8.2-final"
  },
  "pycharm": {
   "stem_cell": {
    "cell_type": "raw",
    "metadata": {
     "collapsed": false
    },
    "source": []
   }
  }
 },
 "nbformat": 4,
 "nbformat_minor": 2
}