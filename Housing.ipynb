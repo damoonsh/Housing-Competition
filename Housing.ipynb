{
 "cells": [
  {
   "cell_type": "code",
   "execution_count": 1,
   "metadata": {
    "pycharm": {
     "is_executing": false
    }
   },
   "outputs": [],
   "source": [
    "import pandas as pd\n",
    "import numpy as np\n",
    "from sklearn.linear_model import LinearRegression\n",
    "from sklearn.neighbors import KNeighborsClassifier\n",
    "from sklearn.model_selection import train_test_split, cross_val_score\n",
    "from sklearn.metrics import r2_score\n",
    "import matplotlib.pyplot as plt\n",
    "from sklearn.tree import DecisionTreeClassifier\n",
    "%matplotlib inline"
   ]
  },
  {
   "cell_type": "code",
   "execution_count": 22,
   "metadata": {},
   "outputs": [],
   "source": [
    "from FeatureSelection import *\n",
    "from utils import *\n",
    "\n",
    "# Importing data\n",
    "test = pd.read_csv('dataset/test.csv')\n",
    "train = pd.read_csv('dataset/train.csv')\n",
    "\n",
    "y_feature = 'SalePrice'\n",
    "\n",
    "# Droping All the columns with more than half of rows nans \n",
    "# simply because they might not be as important as the other columns\n",
    "train.dropna(thresh=train.shape[0] / 2, axis=1, inplace=True)\n",
    "\n",
    "# Getting the features with missing values\n",
    "# Divifing the dataset into categorical and numerical\n",
    "categorical_data = train.select_dtypes('object')\n",
    "numerical_data = train.select_dtypes(['float64', 'int64'])"
   ]
  },
  {
   "cell_type": "code",
   "execution_count": 17,
   "metadata": {},
   "outputs": [
    {
     "data": {
      "text/plain": [
       "['OverallQual',\n",
       " 'GrLivArea',\n",
       " 'GarageCars',\n",
       " 'GarageArea',\n",
       " 'TotalBsmtSF',\n",
       " '1stFlrSF',\n",
       " 'FullBath',\n",
       " 'TotRmsAbvGrd',\n",
       " 'YearBuilt',\n",
       " 'YearRemodAdd',\n",
       " 'GarageYrBlt',\n",
       " 'MasVnrArea',\n",
       " 'Fireplaces',\n",
       " 'BsmtFinSF1',\n",
       " 'LotFrontage',\n",
       " 'WoodDeckSF',\n",
       " '2ndFlrSF',\n",
       " 'OpenPorchSF',\n",
       " 'HalfBath',\n",
       " 'LotArea']"
      ]
     },
     "execution_count": 17,
     "metadata": {},
     "output_type": "execute_result"
    }
   ],
   "source": [
    "list(train.corr()['SalePrice'].nlargest(21)[1:].keys())"
   ]
  },
  {
   "cell_type": "code",
   "execution_count": 31,
   "metadata": {},
   "outputs": [
    {
     "data": {
      "text/plain": [
       "0.7086244776126511"
      ]
     },
     "execution_count": 31,
     "metadata": {},
     "output_type": "execute_result"
    }
   ],
   "source": [
    "train.corr()[y_feature].nlargest(40)[1:]"
   ]
  },
  {
   "cell_type": "code",
   "execution_count": 23,
   "metadata": {},
   "outputs": [],
   "source": [
    "s = polynomial_options(train, list(train.corr()['SalePrice'].nlargest(21)[1:].keys()), y_feature)"
   ]
  },
  {
   "cell_type": "code",
   "execution_count": 24,
   "metadata": {},
   "outputs": [
    {
     "data": {
      "text/plain": [
       "OverallQual^3     0.825238\n",
       "OverallQual^4     0.819070\n",
       "OverallQual^2     0.817168\n",
       "OverallQual       0.790982\n",
       "GrLivArea         0.708624\n",
       "GarageCars^2      0.671394\n",
       "GrLivArea^2       0.652267\n",
       "GarageCars^3      0.646082\n",
       "GarageCars        0.640409\n",
       "GarageArea        0.623431\n",
       "TotalBsmtSF       0.613581\n",
       "GarageArea^2      0.606301\n",
       "1stFlrSF          0.605852\n",
       "GarageCars^4      0.595428\n",
       "FullBath^2        0.577302\n",
       "FullBath^3        0.569483\n",
       "FullBath          0.560664\n",
       "1stFlrSF^2        0.548990\n",
       "FullBath^4        0.537544\n",
       "TotRmsAbvGrd      0.533723\n",
       "YearBuilt^4       0.529565\n",
       "TotRmsAbvGrd^2    0.527843\n",
       "YearBuilt^3       0.527392\n",
       "GarageArea^3      0.525205\n",
       "YearBuilt^2       0.525170\n",
       "YearBuilt         0.522897\n",
       "GrLivArea^3       0.515787\n",
       "YearRemodAdd^4    0.507823\n",
       "YearRemodAdd^3    0.507588\n",
       "YearRemodAdd^2    0.507348\n",
       "YearRemodAdd      0.507101\n",
       "TotRmsAbvGrd^3    0.504081\n",
       "GarageYrBlt^4     0.490860\n",
       "GarageYrBlt^3     0.489389\n",
       "GarageYrBlt^2     0.487889\n",
       "GarageYrBlt       0.486362\n",
       "TotalBsmtSF^2     0.479082\n",
       "MasVnrArea        0.477493\n",
       "2ndFlrSF^3        0.476422\n",
       "Name: SalePrice, dtype: float64"
      ]
     },
     "execution_count": 24,
     "metadata": {},
     "output_type": "execute_result"
    }
   ],
   "source": [
    "s.corr()[y_feature].nlargest(40)[1:]"
   ]
  }
 ],
 "metadata": {
  "kernelspec": {
   "display_name": "Python 3.8.2 64-bit",
   "language": "python",
   "name": "python38264bitfaf1cd899ccd46d6b664fe958a93f2f6"
  },
  "language_info": {
   "codemirror_mode": {
    "name": "ipython",
    "version": 3
   },
   "file_extension": ".py",
   "mimetype": "text/x-python",
   "name": "python",
   "nbconvert_exporter": "python",
   "pygments_lexer": "ipython3",
   "version": "3.8.2"
  },
  "pycharm": {
   "stem_cell": {
    "cell_type": "raw",
    "metadata": {
     "collapsed": false
    },
    "source": []
   }
  }
 },
 "nbformat": 4,
 "nbformat_minor": 2
}
