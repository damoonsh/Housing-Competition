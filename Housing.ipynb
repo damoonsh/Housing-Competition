{
 "cells": [
  {
   "cell_type": "code",
   "execution_count": 1,
   "metadata": {
    "pycharm": {
     "is_executing": false
    }
   },
   "outputs": [],
   "source": [
    "import pandas as pd\n",
    "import numpy as np\n",
    "from sklearn.model_selection import train_test_split\n",
    "import matplotlib.pyplot as plt\n",
    "from FeatureSelection import *\n",
    "from utils import *\n",
    "%matplotlib inline"
   ]
  },
  {
   "cell_type": "code",
   "execution_count": 10,
   "metadata": {},
   "outputs": [
    {
     "output_type": "stream",
     "name": "stdout",
     "text": "[False False False False False False False False False False False False\n False False False False False False False False False False False False\n False False False False False False False False False False False False\n False False]\n"
    }
   ],
   "source": [
    "# Retrieve Data\n",
    "data = retrieve_data()\n",
    "train = data['train']\n",
    "test = data['test']\n",
    "train_num = data['train_num']\n",
    "y_feature = 'SalePrice'\n",
    "\n",
    "# Imputating data with KNN: Try doing this with make pipleline\n",
    "for feature in data['train_num_missing']:\n",
    "    train_num[feature] = fillNaWithKNN(feature, train_num, y_feature)\n",
    "print(train_num.isna().any().values)\n",
    "train_num.to_csv('imputed-train.csv', index=False)\n",
    "\n",
    "all_features_list = train.corr()['SalePrice'][1:-1].keys().to_list()\n",
    "\n",
    "poly_train = polynomial_options(train, all_features_list)"
   ]
  },
  {
   "cell_type": "code",
   "execution_count": null,
   "metadata": {},
   "outputs": [],
   "source": [
    "poly_train"
   ]
  },
  {
   "cell_type": "code",
   "execution_count": 6,
   "metadata": {},
   "outputs": [],
   "source": [
    "l = poly_train.corr()['SalePrice'].nlargest(20)[1:].keys().to_list()"
   ]
  },
  {
   "cell_type": "code",
   "execution_count": 3,
   "metadata": {},
   "outputs": [
    {
     "output_type": "execute_result",
     "data": {
      "text/plain": "['MSSubClass',\n 'LotFrontage',\n 'LotArea',\n 'OverallQual',\n 'OverallCond',\n 'YearBuilt',\n 'YearRemodAdd',\n 'MasVnrArea',\n 'BsmtFinSF1',\n 'BsmtFinSF2',\n 'BsmtUnfSF',\n 'TotalBsmtSF',\n '1stFlrSF',\n '2ndFlrSF',\n 'LowQualFinSF',\n 'GrLivArea',\n 'BsmtFullBath',\n 'BsmtHalfBath',\n 'FullBath',\n 'HalfBath',\n 'BedroomAbvGr',\n 'KitchenAbvGr',\n 'TotRmsAbvGrd',\n 'Fireplaces',\n 'GarageYrBlt',\n 'GarageCars',\n 'GarageArea',\n 'WoodDeckSF',\n 'OpenPorchSF',\n 'EnclosedPorch',\n '3SsnPorch',\n 'ScreenPorch',\n 'PoolArea',\n 'MiscVal',\n 'MoSold',\n 'YrSold']"
     },
     "metadata": {},
     "execution_count": 3
    }
   ],
   "source": [
    "handPicked_features = [\n",
    "    'OverallQual^3', 'OverallQual^4', 'OverallQual^2', 'OverallQual', \n",
    "    'GrLivArea'\n",
    "]\n",
    "doubted_features = poly_train.corr()['SalePrice'].nlargest(50)[20:26].keys().to_list()"
   ]
  },
  {
   "cell_type": "code",
   "execution_count": 35,
   "metadata": {},
   "outputs": [
    {
     "output_type": "stream",
     "name": "stdout",
     "text": "-1.0316868836167893e+49\n"
    },
    {
     "output_type": "execute_result",
     "data": {
      "text/plain": "SGDRegressor(alpha=0.0001, average=False, early_stopping=False, epsilon=0.1,\n             eta0=0.35, fit_intercept=True, l1_ratio=0.15,\n             learning_rate='invscaling', loss='squared_loss', max_iter=1600,\n             n_iter_no_change=45, penalty='l2', power_t=0.25, random_state=31,\n             shuffle=True, tol=0.001, validation_fraction=0.1, verbose=0,\n             warm_start=False)"
     },
     "metadata": {},
     "execution_count": 35
    }
   ],
   "source": [
    "\"\"\"\n",
    "    Implementing mini-batch gradient descent:\n",
    "        - Having a number for batch-size\n",
    "        - Going through the whole dataset in each batch\n",
    "        - passing the parameters along from each batch to the other one\n",
    "        set_params(**args) /get_params\n",
    "\"\"\"\n",
    "from sklearn.linear_model import SGDRegressor\n",
    "\n",
    "sgd = SGDRegressor(eta0=0.35, max_iter=1600, n_iter_no_change=45, random_state=31)\n",
    "X_train, X_test, y_train, y_test = train_test_split(poly_train[l], train[y_feature], test_size=0.33, random_state=42)\n",
    "\n",
    "# sgd.fit(poly_train[l], train['SalePrice'])\n",
    "sgd.fit(X_train, y_train)\n",
    "print(r2_score(y_true=y_test, y_pred=sgd.predict(X_test)))\n",
    "y_pred = sgd.predict(X_test)\n",
    "# print(sgd.score(y_test, y_pred))\n",
    "sgd.fit(poly_train[l], train[y_feature])"
   ]
  },
  {
   "cell_type": "code",
   "execution_count": 112,
   "metadata": {},
   "outputs": [],
   "source": [
    "from sklearn.preprocessing import normalize\n",
    "from sklearn.experimental import enable_iterative_imputer\n",
    "from sklearn.impute import IterativeImputer\n",
    "\n",
    "test_num = data['test_num']\n",
    "X_test = test_num[l]\n",
    "# Imputating the test data\n",
    "for feat in l:\n",
    "    for n in range(0, X_test['GarageCars'].size):\n",
    "        types = ['int64', 'float64']\n",
    "        Type = X_test['GarageCars'].iloc[n].dtype\n",
    "        if not(Type in types):\n",
    "            X_test['GarageCars'].iloc[n] = X_test['GarageCars'].mean()\n",
    "X_test = X_test.fillna(X_test.mean())\n",
    "\n",
    "X_test = polynomial_options(test_num, test.corr()[1:-1])\n",
    "X_test = (X_test - X_test.mean()) / X_test.mean()\n",
    "X_test = X_test[l]"
   ]
  },
  {
   "cell_type": "code",
   "execution_count": 120,
   "metadata": {
    "tags": [
     "outputPrepend"
    ]
   },
   "outputs": [
    {
     "output_type": "stream",
     "name": "stdout",
     "text": "s float64 False\n"
    }
   ],
   "source": [
    "for n in range(0, X_test['GarageCars'].size):\n",
    "    types = ['int64', 'float64']\n",
    "    Type = X_test['GarageCars'].iloc[n].dtype\n",
    "    if not(Type in types):\n",
    "        X_test['GarageCars'].iloc[n] = X_test['GarageCars'].mean()\n",
    "    if n == 1116: print('s', X_test['GarageCars'].iloc[n].dtype, X_test['GarageCars'].iloc[n] == np.NaN)\n",
    "X_test = X_test.fillna(X_test.mean())"
   ]
  },
  {
   "cell_type": "code",
   "execution_count": 113,
   "metadata": {},
   "outputs": [
    {
     "output_type": "execute_result",
     "data": {
      "text/plain": "OverallQual^3     False\nOverallQual^2     False\nOverallQual       False\nGrLivArea         False\nGarageCars^2       True\nGrLivArea^2       False\nGarageCars^3       True\nGarageCars         True\nGarageArea         True\nTotalBsmtSF        True\nGarageArea^2       True\n1stFlrSF          False\nFullBath^2        False\nFullBath^3        False\nFullBath          False\n1stFlrSF^2        False\nTotRmsAbvGrd      False\nTotRmsAbvGrd^2    False\nYearBuilt^3       False\ndtype: bool"
     },
     "metadata": {},
     "execution_count": 113
    }
   ],
   "source": [
    "X_test.isna().any()"
   ]
  },
  {
   "cell_type": "code",
   "execution_count": 101,
   "metadata": {},
   "outputs": [],
   "source": [
    "pred = sgd.predict(X_test)\n",
    "\n",
    "output = pd.DataFrame({'Id': test.Id,\n",
    "                      'SalePrice': pred})\n",
    "output.to_csv('submission.csv', index=False)"
   ]
  },
  {
   "cell_type": "code",
   "execution_count": 102,
   "metadata": {},
   "outputs": [
    {
     "output_type": "execute_result",
     "data": {
      "text/plain": "          SalePrice\nId                 \n1     122430.677167\n2     164746.246000\n3     176869.848667\n4     203227.895500\n5     171174.603333\n...             ...\n1455   83863.886667\n1456   89974.796667\n1457  170363.683500\n1458  120392.747000\n1459  214939.794533\n\n[1459 rows x 1 columns]",
      "text/html": "<div>\n<style scoped>\n    .dataframe tbody tr th:only-of-type {\n        vertical-align: middle;\n    }\n\n    .dataframe tbody tr th {\n        vertical-align: top;\n    }\n\n    .dataframe thead th {\n        text-align: right;\n    }\n</style>\n<table border=\"1\" class=\"dataframe\">\n  <thead>\n    <tr style=\"text-align: right;\">\n      <th></th>\n      <th>SalePrice</th>\n    </tr>\n    <tr>\n      <th>Id</th>\n      <th></th>\n    </tr>\n  </thead>\n  <tbody>\n    <tr>\n      <th>1</th>\n      <td>122430.677167</td>\n    </tr>\n    <tr>\n      <th>2</th>\n      <td>164746.246000</td>\n    </tr>\n    <tr>\n      <th>3</th>\n      <td>176869.848667</td>\n    </tr>\n    <tr>\n      <th>4</th>\n      <td>203227.895500</td>\n    </tr>\n    <tr>\n      <th>5</th>\n      <td>171174.603333</td>\n    </tr>\n    <tr>\n      <th>...</th>\n      <td>...</td>\n    </tr>\n    <tr>\n      <th>1455</th>\n      <td>83863.886667</td>\n    </tr>\n    <tr>\n      <th>1456</th>\n      <td>89974.796667</td>\n    </tr>\n    <tr>\n      <th>1457</th>\n      <td>170363.683500</td>\n    </tr>\n    <tr>\n      <th>1458</th>\n      <td>120392.747000</td>\n    </tr>\n    <tr>\n      <th>1459</th>\n      <td>214939.794533</td>\n    </tr>\n  </tbody>\n</table>\n<p>1459 rows × 1 columns</p>\n</div>"
     },
     "metadata": {},
     "execution_count": 102
    }
   ],
   "source": [
    "bench = load_bench_data()\n",
    "bench"
   ]
  },
  {
   "cell_type": "code",
   "execution_count": 104,
   "metadata": {},
   "outputs": [
    {
     "output_type": "execute_result",
     "data": {
      "text/plain": "-7.996790150161541e+27"
     },
     "metadata": {},
     "execution_count": 104
    }
   ],
   "source": [
    "r2_score(bench['SalePrice'], pred)"
   ]
  }
 ],
 "metadata": {
  "kernelspec": {
   "display_name": "Python 3.8.2 64-bit",
   "language": "python",
   "name": "python38264bitfaf1cd899ccd46d6b664fe958a93f2f6"
  },
  "language_info": {
   "codemirror_mode": {
    "name": "ipython",
    "version": 3
   },
   "file_extension": ".py",
   "mimetype": "text/x-python",
   "name": "python",
   "nbconvert_exporter": "python",
   "pygments_lexer": "ipython3",
   "version": "3.8.2-final"
  },
  "pycharm": {
   "stem_cell": {
    "cell_type": "raw",
    "metadata": {
     "collapsed": false
    },
    "source": []
   }
  }
 },
 "nbformat": 4,
 "nbformat_minor": 2
}