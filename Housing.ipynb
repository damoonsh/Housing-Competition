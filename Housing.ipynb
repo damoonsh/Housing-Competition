{
 "cells": [
  {
   "cell_type": "code",
   "execution_count": 1,
   "metadata": {},
   "outputs": [],
   "source": [
    "import pandas as pd\n",
    "import numpy as np\n",
    "from utils import *"
   ]
  },
  {
   "cell_type": "code",
   "execution_count": 64,
   "metadata": {},
   "outputs": [],
   "source": [
    "# Retrieve Data\n",
    "data = retrieve_data()\n",
    "train = data['train'].copy()\n",
    "test = data['test'].copy()\n",
    "# The dependent feature that is to be predicted\n",
    "y_feat = 'SalePrice'"
   ]
  },
  {
   "cell_type": "code",
   "execution_count": 8,
   "metadata": {},
   "outputs": [
    {
     "data": {
      "image/png": "[encoded data removed]",
      "text/plain": [
       "<Figure size 432x288 with 1 Axes>"
      ]
     },
     "metadata": {
      "needs_background": "light"
     },
     "output_type": "display_data"
    }
   ],
   "source": [
    "import seaborn as sns\n",
    "\n",
    "# Check to see if the ditribution for of the SalePrice is close to Gaussian or not?\n",
    "\n",
    "# histogram\n",
    "sns.distplot(train[y_feat]);"
   ]
  },
  {
   "cell_type": "markdown",
   "metadata": {},
   "source": [
    "The distribution is close enough to be gaussian yet it contains some outliers in it."
   ]
  },
  {
   "cell_type": "markdown",
   "metadata": {},
   "source": [
    "#### Note: Check all the unique categorical features in both training and testing datasets to see which features are missing in test dataset, This part might not be necessary but could be helpful."
   ]
  },
  {
   "cell_type": "markdown",
   "metadata": {},
   "source": [
    "## Encoding Categorical Features:\n",
    "<p> \n",
    "    It would take great amount of time to go over the definitions of categorical features within the dataset and try to map them accordingly. The value of mapping for each unique value in a feature could be estimated based on its relation to the SalePrice. Meaning that the value with the highest SalePrice average should get a higher value in mapping. \n",
    "</p>\n",
    "<p> \n",
    "    Yet we are interested in the relative values, so it would be logical to divide the the average of one unique value in a feature from the average of all of them:\n",
    "</p>\n",
    "\n",
    "##### Let's say that we have unique values A and B in the feature X\n",
    "##### Now the average of SalePrice for value A (when X = A) is Ma and for B is Mb\n",
    "##### The value that it is going to imputed for A is Ma / Ma + Mb and for B is Mb / Ma + Mb"
   ]
  },
  {
   "cell_type": "code",
   "execution_count": 65,
   "metadata": {},
   "outputs": [],
   "source": [
    "# A dictionary of values corresponding to the categorical features within the dataset\n",
    "cat_dics = {}\n",
    "# List of all categorical features in the \n",
    "cat_feats = data['train_cat'].columns.to_list()\n",
    "# Get the values for each of the categorical features\n",
    "for feat in cat_feats:\n",
    "    cat_dics[feat] = rank_categorical_values(train, feat)[0]\n",
    "\n",
    "# There might be some missing values in the categorical features in the\n",
    "# testing data, which will be treated as numerical and imputed with that\n",
    "# respect."
   ]
  },
  {
   "cell_type": "code",
   "execution_count": 66,
   "metadata": {},
   "outputs": [
    {
     "data": {
      "text/plain": [
       "{'CollgCr': 0.04304425976649378,\n",
       " 'Veenker': 0.05191703153946601,\n",
       " 'Crawfor': 0.04579673165007603,\n",
       " 'NoRidge': 0.07290421209470918,\n",
       " 'Mitchel': 0.03397825609535837,\n",
       " 'Somerst': 0.049004977454523396,\n",
       " 'NWAmes': 0.04110569276735894,\n",
       " 'OldTown': 0.027880390973622476,\n",
       " 'BrkSide': 0.027143022046897163,\n",
       " 'Sawyer': 0.029743319483390717,\n",
       " 'NridgHt': 0.06876761896720276,\n",
       " 'NAmes': 0.031711944403308295,\n",
       " 'SawyerW': 0.04056335615506725,\n",
       " 'IDOTRR': 0.021770198380387268,\n",
       " 'MeadowV': 0.021433761682225477,\n",
       " 'Edwards': 0.027879173157315654,\n",
       " 'Timber': 0.052672549788386036,\n",
       " 'Gilbert': 0.041932902480024487,\n",
       " 'StoneBr': 0.06751267852111145,\n",
       " 'ClearCr': 0.04621870422721212,\n",
       " 'NPkVill': 0.031026457909772254,\n",
       " 'Blmngtn': 0.04237132883976904,\n",
       " 'BrDale': 0.02272037253329444,\n",
       " 'SWISU': 0.0310040439665444,\n",
       " 'Blueste': 0.029897015116482902}"
      ]
     },
     "execution_count": 66,
     "metadata": {},
     "output_type": "execute_result"
    }
   ],
   "source": [
    "cat_dics['Neighborhood']"
   ]
  },
  {
   "cell_type": "markdown",
   "metadata": {},
   "source": [
    "##### Better Neighborhoods have higher values."
   ]
  },
  {
   "cell_type": "markdown",
   "metadata": {},
   "source": [
    "## Imputing combined data:\n",
    "<p>\n",
    "   One of the concrete ways of imputing data is to combine both the test and train data and then impute all of the data at once and then rebreak into training and testing further on.   \n",
    "</p>\n",
    "\n",
    "<p><b>Note:</b> It is important to note that there will be categorical features in the test set which have Nan values but they did not have Nan values in training and hence there is no encoding value for them in the dictionary. These values will be treated as strictly numerical and will imputed using KNN algorithm. </p>"
   ]
  },
  {
   "cell_type": "code",
   "execution_count": 67,
   "metadata": {},
   "outputs": [],
   "source": [
    "# Get the length of dataset so I can rebreak them after combining\n",
    "train_len = train.shape[0]\n",
    "test_len = test.shape[0]\n",
    "\n",
    "# Get the column for the dependent data into a seprate variable\n",
    "dep_col = train[y_feat]\n",
    "\n",
    "# Drop the dependent column in train\n",
    "train.drop([y_feat], axis=1 , inplace = True)\n",
    "feat_cols = train.append(test) # Combine datasets\n",
    "feat_cols.reset_index(inplace=True) # Reset Indexes\n",
    "feat_cols.drop(['index', 'Id'], inplace=True, axis=1) # Drop Id and index columns\n",
    "\n",
    "# Decode the categorical features in the combined dataset\n",
    "for feat in cat_feats:\n",
    "    feat_cols[feat] = impute_rank_weight(feat_cols[feat].copy(), cat_dics[feat])\n",
    "\n",
    "# Getting the list of features with missing values in the dataset\n",
    "missings = feat_cols.columns[feat_cols.isna().any()].tolist()\n",
    "\n",
    "# Impute the missing categorical variables with KNNImputer\n",
    "from sklearn.impute import KNNImputer\n",
    "\n",
    "num = train_len + test_len // 3\n",
    "imputer = KNNImputer(n_neighbors=num, weights=\"distance\")\n",
    "feat_cols[missings] = pd.DataFrame(imputer.fit_transform(feat_cols[missings]))"
   ]
  },
  {
   "cell_type": "markdown",
   "metadata": {},
   "source": [
    "## Rebreaking into Test and Train data"
   ]
  },
  {
   "cell_type": "code",
   "execution_count": 68,
   "metadata": {},
   "outputs": [
    {
     "name": "stderr",
     "output_type": "stream",
     "text": [
      "/home/dmn/.local/lib/python3.8/site-packages/pandas/core/indexing.py:845: SettingWithCopyWarning: \n",
      "A value is trying to be set on a copy of a slice from a DataFrame.\n",
      "Try using .loc[row_indexer,col_indexer] = value instead\n",
      "\n",
      "See the caveats in the documentation: https://pandas.pydata.org/pandas-docs/stable/user_guide/indexing.html#returning-a-view-versus-a-copy\n",
      "  self.obj[key] = _infer_fill_value(value)\n",
      "/home/dmn/.local/lib/python3.8/site-packages/pandas/core/indexing.py:966: SettingWithCopyWarning: \n",
      "A value is trying to be set on a copy of a slice from a DataFrame.\n",
      "Try using .loc[row_indexer,col_indexer] = value instead\n",
      "\n",
      "See the caveats in the documentation: https://pandas.pydata.org/pandas-docs/stable/user_guide/indexing.html#returning-a-view-versus-a-copy\n",
      "  self.obj[item] = s\n"
     ]
    }
   ],
   "source": [
    "# Now rebreak the data into train and test\n",
    "imp_train = feat_cols[:train_len]\n",
    "imp_train.loc[:, y_feat] = dep_col.copy()\n",
    "imp_test = feat_cols[train_len:].reset_index()"
   ]
  },
  {
   "cell_type": "code",
   "execution_count": 69,
   "metadata": {},
   "outputs": [
    {
     "data": {
      "text/plain": [
       "OverallQual     0.790982\n",
       "Neighborhood    0.738630\n",
       "GrLivArea       0.708624\n",
       "ExterQual       0.690933\n",
       "BsmtQual        0.681905\n",
       "KitchenQual     0.675721\n",
       "GarageCars      0.640409\n",
       "GarageArea      0.623431\n",
       "TotalBsmtSF     0.613581\n",
       "1stFlrSF        0.605852\n",
       "FullBath        0.560664\n",
       "GarageFinish    0.553059\n",
       "FireplaceQu     0.542181\n",
       "TotRmsAbvGrd    0.533723\n",
       "YearBuilt       0.522897\n",
       "YearRemodAdd    0.507101\n",
       "Foundation      0.506328\n",
       "Name: SalePrice, dtype: float64"
      ]
     },
     "execution_count": 69,
     "metadata": {},
     "output_type": "execute_result"
    }
   ],
   "source": [
    "imp_train.corr()[y_feat].nlargest(18)[1:]"
   ]
  },
  {
   "cell_type": "markdown",
   "metadata": {},
   "source": [
    "Some of the categorical features have high relations with the SalePrice column"
   ]
  },
  {
   "cell_type": "markdown",
   "metadata": {},
   "source": [
    "## Feature Selection:\n",
    "<p>\n",
    "    When using Neural Networks, it is not that significant to choose features manually hence, we will work with some of the highly related features.\n",
    "</p>"
   ]
  },
  {
   "cell_type": "code",
   "execution_count": 70,
   "metadata": {},
   "outputs": [],
   "source": [
    "# Breaking the x and y splits:\n",
    "# Finding the features\n",
    "features = imp_train.corr()[y_feat].nlargest(26)[1:].keys().to_list()\n",
    "\n",
    "# Training datasets\n",
    "X = imp_train[features]\n",
    "y = imp_train[y_feat]\n",
    "\n",
    "# Testing datasets\n",
    "X_test = imp_test[features]\n",
    "\n",
    "# Normalized datasets:\n",
    "# It makes more sense to use batchnormalization in NN instead\n",
    "# of feeding normalized data into the model.\n",
    "norm_X = normalize(X)\n",
    "norm_y = normalize(y)\n",
    "norm_X_test = normalize(X_test)"
   ]
  },
  {
   "cell_type": "markdown",
   "metadata": {},
   "source": [
    "### Validation Set:\n",
    "#### The data will be broken into ten patches for both evaluating during trainning as well as checking for overfitting after the training is done."
   ]
  },
  {
   "cell_type": "code",
   "execution_count": 71,
   "metadata": {},
   "outputs": [],
   "source": [
    "# Chunks of data used to check for overfitting\n",
    "devs = [] # List that will save the chunks of data\n",
    "dev_batch_size = int(imp_train.shape[0] * 0.3) # Size of each batch\n",
    "\n",
    "for i in range(10):\n",
    "    dev_data = imp_train.sample(n=dev_batch_size, random_state=i)\n",
    "    dev_x = dev_data[features]\n",
    "    dev_y = dev_data[y_feat]\n",
    "    devs.append((dev_x, dev_y))"
   ]
  },
  {
   "cell_type": "code",
   "execution_count": 72,
   "metadata": {},
   "outputs": [
    {
     "data": {
      "text/plain": [
       "False"
      ]
     },
     "execution_count": 72,
     "metadata": {},
     "output_type": "execute_result"
    }
   ],
   "source": [
    "# Check to see if the imputation worked\n",
    "True in X.isna().any()"
   ]
  },
  {
   "cell_type": "code",
   "execution_count": 75,
   "metadata": {},
   "outputs": [
    {
     "data": {
      "text/plain": [
       "tuple"
      ]
     },
     "execution_count": 75,
     "metadata": {},
     "output_type": "execute_result"
    }
   ],
   "source": [
    "type(devs[0])"
   ]
  },
  {
   "cell_type": "markdown",
   "metadata": {},
   "source": [
    "## Training Models"
   ]
  },
  {
   "cell_type": "code",
   "execution_count": 44,
   "metadata": {},
   "outputs": [],
   "source": [
    "import tensorflow as tf\n",
    "\n",
    "from tensorflow import keras\n",
    "from tensorflow.keras import layers\n",
    "\n",
    "import tensorflow_docs as tfdocs\n",
    "import tensorflow_docs.plots\n",
    "import tensorflow_docs.modeling\n",
    "import matplotlib.pyplot as plt\n",
    "import seaborn as sns"
   ]
  },
  {
   "cell_type": "code",
   "execution_count": 104,
   "metadata": {},
   "outputs": [],
   "source": [
    "# Softmax does not make sense, drop out and batchnormalization works\n",
    "# For metrics, mse and msle should be considered\n",
    "def build_model05():\n",
    "  model = keras.Sequential([\n",
    "    layers.InputLayer(input_shape=[len(X.keys())]),\n",
    "    layers.BatchNormalization(),\n",
    "    layers.Dense(64, activation='relu'),\n",
    "    layers.Dense(256, activation='relu'),\n",
    "    layers.Dense(2048),\n",
    "    layers.Dense(256, activation='relu'),\n",
    "    layers.Dense(64, activation='relu'),\n",
    "    layers.Dense(16),\n",
    "    layers.Dense(8),\n",
    "    layers.Dense(1)\n",
    "  ])\n",
    "\n",
    "  optimizer = tf.keras.optimizers.Adam(0.001)\n",
    "    \n",
    "  model.compile(loss='msle', optimizer=optimizer, metrics=['mae'])\n",
    "  return model\n",
    "\n",
    "model = build_model05()"
   ]
  },
  {
   "cell_type": "code",
   "execution_count": 51,
   "metadata": {},
   "outputs": [],
   "source": [
    "# Validation functions\n",
    "def validate():\n",
    "    # Check to see if there have been an overfit or underfit\n",
    "    for i in range(10):\n",
    "        model.evaluate(devs[i][0], devs[i][1], batch_size=batch_size)"
   ]
  },
  {
   "cell_type": "code",
   "execution_count": 106,
   "metadata": {},
   "outputs": [],
   "source": [
    "EPOCHS = 1500\n",
    "batch_size = train_num // 5\n",
    "patience = 115\n",
    "\n",
    "# The patience parameter is the amount of epochs to check for improvement\n",
    "early_stop = keras.callbacks.EarlyStopping(monitor='val_loss', patience=patience)"
   ]
  },
  {
   "cell_type": "code",
   "execution_count": 107,
   "metadata": {},
   "outputs": [
    {
     "name": "stdout",
     "output_type": "stream",
     "text": [
      "\n",
      "Epoch: 0, loss:1.3945,  mae:119467.0703,  val_loss:4.0050,  val_mae:1011793.1250,  \n",
      "....................................................................................................\n",
      "Epoch: 100, loss:0.0281,  mae:23129.1562,  val_loss:0.0310,  val_mae:21840.4668,  \n",
      "....................................................................................................\n",
      "Epoch: 200, loss:0.0210,  mae:20214.6641,  val_loss:0.0302,  val_mae:21501.1660,  \n",
      "....................................................................................................\n",
      "Epoch: 300, loss:0.0162,  mae:17182.3887,  val_loss:0.0272,  val_mae:20217.6172,  \n",
      "......................................................................"
     ]
    },
    {
     "data": {
      "text/plain": [
       "<tensorflow.python.keras.callbacks.History at 0x7f7b2416b220>"
      ]
     },
     "execution_count": 107,
     "metadata": {},
     "output_type": "execute_result"
    }
   ],
   "source": [
    "model.fit(X, y, epochs=EPOCHS, verbose=0, validation_split=devs[3], callbacks=[early_stop, tfdocs.modeling.EpochDots()])"
   ]
  },
  {
   "cell_type": "markdown",
   "metadata": {},
   "source": [
    "#### Since the evaluation data passed to the model is not trained and model never sees it, it would make sense to train the whole data on all of the chunks that is used for validation"
   ]
  },
  {
   "cell_type": "code",
   "execution_count": 95,
   "metadata": {},
   "outputs": [],
   "source": [
    "# Pridctions\n",
    "pred_y = pd.DataFrame(model.predict(X_test, batch_size=20, steps=73, verbose=0))[0]\n",
    "\n",
    "# It would make sense to convert all of the data to int instead of float since there no floats in trainig.\n",
    "modified = quantize(pred_y)\n",
    "\n",
    "# Check the preditions\n",
    "modified[:10]"
   ]
  },
  {
   "cell_type": "code",
   "execution_count": 97,
   "metadata": {},
   "outputs": [],
   "source": [
    "output = pd.DataFrame({'Id': test.Id,\n",
    "                      'SalePrice': modified})\n",
    "output.to_csv('submission.csv', index=False)"
   ]
  },
  {
   "cell_type": "code",
   "execution_count": 40,
   "metadata": {},
   "outputs": [],
   "source": [
    "# Save the model given that the score is good\n",
    "model.save_weights('./weights/3-015095')"
   ]
  }
 ],
 "metadata": {
  "kernelspec": {
   "display_name": "Python 3",
   "language": "python",
   "name": "python3"
  },
  "language_info": {
   "codemirror_mode": {
    "name": "ipython",
    "version": 3
   },
   "file_extension": ".py",
   "mimetype": "text/x-python",
   "name": "python",
   "nbconvert_exporter": "python",
   "pygments_lexer": "ipython3",
   "version": "3.8.2"
  }
 },
 "nbformat": 4,
 "nbformat_minor": 4
}
